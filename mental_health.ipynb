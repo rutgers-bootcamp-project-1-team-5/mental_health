{
 "cells": [
  {
   "cell_type": "code",
   "execution_count": null,
   "metadata": {},
   "outputs": [],
   "source": [
    "import hvplot.pandas\n",
    "import matplotlib.pyplot as plt\n",
    "import pandas as pd\n",
    "import requests\n",
    "\n",
    "from geopy.exc import GeocoderUnavailable\n",
    "from geopy.geocoders import Nominatim\n",
    "from IPython.display import Image\n",
    "from IPython.display import display\n",
    "from pathlib import Path\n",
    "from scipy import stats"
   ]
  },
  {
   "cell_type": "code",
   "execution_count": null,
   "metadata": {},
   "outputs": [],
   "source": [
    "# Load in the relevant datasets\n",
    "\n",
    "# DALYs by country\n",
    "# DALYs are Disabililty Adjusted Life Years. This refers to the average number of years a citizen's life is shortened due to a disability (i.e. mental illness).\n",
    "dalys_df = pd.read_csv(Path('mental_health_dataset', 'mental-and-substance-use-as-share-of-disease.csv'))\n",
    "dalys_df = dalys_df.rename(columns={'DALYs (Disability-Adjusted Life Years) - Mental disorders - Sex: Both - Age: All Ages (Percent)' : 'DALYs'})\n",
    "\n",
    "# Prevalance of mental illness by country as a percentage of the country's population\n",
    "# The illnesses observed are schizophrenia, bipolar disorder, eating disorders, anxiety disorders, drug use disorders,depressive disorders, and alcohol use disorders\n",
    "disease_df = pd.read_csv(Path('mental_health_dataset', 'prevalence-by-mental-and-substance-use-disorder.csv'))\n",
    "disease_df = disease_df.rename(columns={\n",
    "    'Prevalence - Schizophrenia - Sex: Both - Age: Age-standardized (Percent)' : 'Schizophrenia',\n",
    "    'Prevalence - Bipolar disorder - Sex: Both - Age: Age-standardized (Percent)' : 'Bipolar disorder',\n",
    "    'Prevalence - Eating disorders - Sex: Both - Age: Age-standardized (Percent)' : 'Eating disorders',\n",
    "    'Prevalence - Anxiety disorders - Sex: Both - Age: Age-standardized (Percent)' : 'Anxiety disorders',\n",
    "    'Prevalence - Drug use disorders - Sex: Both - Age: Age-standardized (Percent)' : 'Drug use disorders',\n",
    "    'Prevalence - Depressive disorders - Sex: Both - Age: Age-standardized (Percent)' : 'Depressive disorders',\n",
    "    'Prevalence - Alcohol use disorders - Sex: Both - Age: Age-standardized (Percent)' : 'Alcohol use disorders'\n",
    "})"
   ]
  },
  {
   "cell_type": "markdown",
   "metadata": {},
   "source": [
    "# Data Cleaning"
   ]
  },
  {
   "cell_type": "code",
   "execution_count": null,
   "metadata": {},
   "outputs": [],
   "source": [
    "dalys_df.dropna()\n",
    "dalys_df.describe().loc[['min', 'max']].astype(float)"
   ]
  },
  {
   "cell_type": "markdown",
   "metadata": {},
   "source": [
    "## Observations\n",
    "-  All N/A value have been removed from the DALYs dataset.<br>\n",
    "-  The minimum and maximum years fall within the expect range (1990-2019).<br>\n",
    "-  The minimum DALYs is greater than 0. Mental illness is not expected to prolong life. <br>\n",
    "-  The maximum DALYs is below 14 years. This value is expected to be lower than a human lifespan."
   ]
  },
  {
   "cell_type": "code",
   "execution_count": null,
   "metadata": {},
   "outputs": [],
   "source": [
    "disease_df.dropna()\n",
    "disease_df.describe().loc[['min', 'max']].astype(float)"
   ]
  },
  {
   "cell_type": "markdown",
   "metadata": {},
   "source": [
    "## Observations\n",
    "-  All N/A value have been removed from the diseases dataset.<br>\n",
    "-  The minimum and maximum years fall within the expect range (1990-2019).<br>\n",
    "-  The value for each disorder represents a percentage of a country's population. The lowest values should be greater than or (in a perfect world) equal to zero. The greatest values should not be a majority of the population of a country. 9.015948% seems to be a reasonable maximum value. This is the opinion of a data analyst, not a mental health professional."
   ]
  },
  {
   "cell_type": "markdown",
   "metadata": {},
   "source": [
    "# Question #1 - Is there a difference in mental health among geographical regions?"
   ]
  },
  {
   "cell_type": "code",
   "execution_count": null,
   "metadata": {},
   "outputs": [],
   "source": [
    "# Perform geographic analysis. This will require coordinates for each country which can be queried through the geopy library.\n",
    "# This can take a while, so only run this cell if you don't already have the data saved locally.\n",
    "\n",
    "# Country code 'NA' exists so it should be removed from the na_values list\n",
    "na_values = [' ', '#N/A', '#N/A N/A', '#NA', '-1.#IND', '-1.#QNAN', '-NaN', '-nan', '1.#IND', '1.#QNAN', '<NA>', \n",
    "             'N/A', 'NULL', 'NaN', 'None', 'n/a', 'nan', 'null ']\n",
    "\n",
    "# Country codes are necessary to differentiate between 2 similarly named regions (i.e. Georgia the state and country)\n",
    "country_codes_df = pd.read_csv(Path('geodata', 'country_codes.csv'), na_values = na_values, keep_default_na = False)\n",
    "\n",
    "# Get the list of countries from the DALYs dataset\n",
    "geo_df = pd.DataFrame(dalys_df['Entity'].unique(), columns=['Entity'])\n",
    "\n",
    "# Merge countries with codes\n",
    "geo_df = geo_df.merge(country_codes_df, on='Entity')\n",
    "\n",
    "# Query for coordinates\n",
    "geolocator = Nominatim(user_agent='data_science_student_project')\n",
    "lat = []\n",
    "lon = []\n",
    "\n",
    "for country, code in zip(geo_df['Entity'], geo_df['Code']):\n",
    "    print(f'Retrieving geodata for {country}...')\n",
    "    try:\n",
    "        # Get the geodata\n",
    "        geodata = geolocator.geocode(country, country_codes=code)\n",
    "\n",
    "        # Pull out the latitude and longitude\n",
    "        try:\n",
    "            lat.append(geodata.latitude)\n",
    "        except AttributeError:\n",
    "            lat.append('N/A')\n",
    "            print(f'Latitude not for {country}.')\n",
    "        try:\n",
    "            lon.append(geodata.longitude)\n",
    "        except AttributeError:\n",
    "            lon.append('N/A')\n",
    "            print(f'Longitude not for {country}.')\n",
    "    except (TimeoutError, GeocoderUnavailable):\n",
    "        lat.append('N/A')\n",
    "        print(f'Latitude not for {country}.')\n",
    "        lon.append('N/A')\n",
    "        print(f'Longitude not for {country}.')\n",
    "\n",
    "print('''\n",
    "*******************************\n",
    "Geodata retrieval complete!\n",
    "*******************************''')"
   ]
  },
  {
   "cell_type": "code",
   "execution_count": null,
   "metadata": {},
   "outputs": [],
   "source": [
    "# Save geodata for later use. It is easier to read the data from a local .csv than to perform all the geodata queries again.\n",
    "pd.DataFrame({\n",
    "    'Entity' : geo_df['Entity'],\n",
    "    'Latitude' : lat,\n",
    "    'Longitude' : lon\n",
    "}).to_csv(Path('geodata', 'coordinates.csv'), index=False)"
   ]
  },
  {
   "cell_type": "code",
   "execution_count": null,
   "metadata": {},
   "outputs": [],
   "source": [
    "# Load geodata if not already loaded into the notebook\n",
    "geo_df = pd.read_csv(Path('geodata', 'coordinates.csv'))"
   ]
  },
  {
   "cell_type": "code",
   "execution_count": null,
   "metadata": {},
   "outputs": [],
   "source": [
    "# Merge geodata with DALYs data\n",
    "geo_df = geo_df.merge(dalys_df, on='Entity')\n",
    "geo_df = geo_df.dropna()\n",
    "geo_df"
   ]
  },
  {
   "cell_type": "code",
   "execution_count": null,
   "metadata": {},
   "outputs": [],
   "source": [
    "# Create a map to visually inspect for regional trends. We will arbitrarily use the latest year in the dataset, 2019.\n",
    "year = 2019\n",
    "dalys_map = geo_df[geo_df['Year'] == year].hvplot.points(\n",
    "    'Longitude',\n",
    "    'Latitude',\n",
    "    geo = True,\n",
    "    tiles = 'OSM',\n",
    "    frame_width = 700,\n",
    "    frame_height = 500,\n",
    "    size = 'DALYs',\n",
    "    color = 'Entity',\n",
    "    alpha = 0.5,\n",
    "    scale = 6,\n",
    "    title = f'DALYs in {year} by Country (indicated by dot size)'\n",
    ")\n",
    "hvplot.save(dalys_map, Path('media', 'dalys_map.html'))\n",
    "dalys_map"
   ]
  },
  {
   "cell_type": "markdown",
   "metadata": {},
   "source": [
    "## Observations\n",
    "Africa has noticeably smaller DALYs than the Americas, Europe, and the Middle East. Let's dig into the statistics to find out more."
   ]
  },
  {
   "cell_type": "code",
   "execution_count": null,
   "metadata": {},
   "outputs": [],
   "source": [
    "# The DALYs dataset also includes regional data, which we will extract, plot, and analyze below.\n",
    "regions = ['African Region (WHO)', 'Eastern Mediterranean Region (WHO)', 'European Region (WHO)', 'South-East Asia Region (WHO)', \n",
    "           'Western Pacific Region (WHO)', 'East Asia & Pacific (WB)', 'Latin America & Caribbean (WB)', 'Middle East & North Africa (WB)', \n",
    "           'North America (WB)']\n",
    "regions_df = pd.DataFrame()\n",
    "\n",
    "for r in regions:\n",
    "    df = dalys_df[dalys_df['Entity'] == r]\n",
    "    regions_df = pd.concat([regions_df, df])\n",
    "    plt.plot(df['Year'], df['DALYs'])\n",
    "\n",
    "plt.title('DALYs as a Result of Mental Disorders by Region')\n",
    "plt.xlabel('Year')\n",
    "plt.ylabel('Disability Adjusted Life Years')\n",
    "plt.legend(regions, bbox_to_anchor=(1, 1))\n",
    "plt.grid()\n",
    "plt.savefig(Path('media', 'dalys_by_region.png'), bbox_inches=\"tight\")\n",
    "plt.show()\n",
    "\n",
    "regions_stats = regions_df.groupby('Entity')['DALYs'].describe().sort_values('mean')\n",
    "regions_stats.to_csv(Path('media', 'dalys_stats.csv'))\n",
    "regions_stats"
   ]
  },
  {
   "cell_type": "markdown",
   "metadata": {},
   "source": [
    "## Observations\n",
    "-  The population of the African region clearly experiences lower DALYs than all other regions, with the smallest mean, minimum value, and maxiumum value.<br>\n",
    "-  The population of North America was the most mentally unhealthy starting at 1990, but begins to recover after 2010. The DALYs dip below Latin America and the Caribbean in 2017 before leveling off.<br>\n",
    "-  The DALYs for Latin America and the Caribbean appear to keep pace with the Middle East and North Africa, but then level out in 2006 while the latter region's DALYs continue to grow. This diversion could be worth further investigation.<br>\n",
    "-  The European region DALYs had the smallest standard deviation over the timespan, indicating the smallest fluctuation in mental health.<br>\n",
    "-  Across all regions, mental health appears to be **trending for the worse**."
   ]
  },
  {
   "cell_type": "markdown",
   "metadata": {},
   "source": [
    "# Question #2 - Are wealthier countries mentally healthier than others?"
   ]
  },
  {
   "cell_type": "code",
   "execution_count": null,
   "metadata": {},
   "outputs": [],
   "source": [
    "# For this analysis, we will look at the top and bottom 5 wealthiest countries.\n",
    "countries_of_interest = ['United States', 'China', 'Japan', 'Germany', 'United Kingdom',    # Wealthiest countries\n",
    "                         'Comoros', 'Djibouti', 'Guinea-Bissau', 'Lesotho', 'Suriname']     # Poorest countries\n",
    "\n",
    "for c in countries_of_interest:\n",
    "    df = dalys_df[dalys_df['Entity'] == c]\n",
    "    plt.plot(df['Year'], df['DALYs'])\n",
    "\n",
    "plt.legend(countries_of_interest)\n",
    "plt.title('DALYs as a Result of Mental Disorders by Country')\n",
    "plt.xlabel('Year')\n",
    "plt.ylabel('Disability Adjusted Life Years')\n",
    "plt.legend(countries_of_interest, bbox_to_anchor=(1, 1))\n",
    "plt.grid()\n",
    "plt.show()"
   ]
  },
  {
   "cell_type": "code",
   "execution_count": null,
   "metadata": {},
   "outputs": [],
   "source": [
    "# For this analysis, we will look at the distribution of mental illnesses within our countries of interest.\n",
    "diseases = ['Schizophrenia', 'Bipolar disorder', 'Eating disorders', 'Anxiety disorders','Drug use disorders','Depressive disorders', 'Alcohol use disorders']\n",
    "\n",
    "for c in countries_of_interest:\n",
    "    df = disease_df[disease_df['Entity'] == c]\n",
    "    for d in diseases:\n",
    "        plt.plot(df['Year'], df[d], alpha=0.8)\n",
    "    plt.title(c)\n",
    "    plt.xlabel('Year')\n",
    "    plt.ylabel('Percent of Population with Disorder')\n",
    "    plt.legend(diseases, bbox_to_anchor=(1, 1))\n",
    "    plt.grid()\n",
    "    if c in ['United States', 'United Kingdom']:\n",
    "        plt.savefig(Path('media', f\"{c.replace(' ', '_')}_disorders.png\"), bbox_inches=\"tight\")\n",
    "    plt.show()"
   ]
  },
  {
   "cell_type": "markdown",
   "metadata": {},
   "source": [
    "## Observations\n",
    "Across the board, the two disorders that are affecting the highest population in each listed countries are Anxiety and Depressive disorders. The two disorders that are least affecting are Eating disorders and Schizophrenia. Alcohol disorders fall in the middle in every graph.\n",
    "United Kingdoms is the only country where Bipolar disorders are above 1%. United States is the only country where drug and alcohol use is above 2%."
   ]
  },
  {
   "cell_type": "code",
   "execution_count": null,
   "metadata": {},
   "outputs": [],
   "source": [
    "disease_df.head()"
   ]
  },
  {
   "cell_type": "markdown",
   "metadata": {},
   "source": [
    "## Who between the US and UK have higher affected population percentages from disorders?\n",
    "For this section, we will be conducting p-tests so that we can confidently draw conclusions"
   ]
  },
  {
   "cell_type": "code",
   "execution_count": null,
   "metadata": {},
   "outputs": [],
   "source": [
    "#calculate population average for schizohprenia for US\n",
    "united_states_df = disease_df.loc[disease_df['Entity'] == 'United States']\n",
    "\n",
    "us_schizophrenia_mean = united_states_df['Schizophrenia'].mean()\n",
    "us_schizophrenia_mean"
   ]
  },
  {
   "cell_type": "code",
   "execution_count": null,
   "metadata": {},
   "outputs": [],
   "source": [
    "#calculate population average for schizohprenia for UK\n",
    "united_kingdom_df = disease_df[disease_df['Entity'] == 'United Kingdom']\n",
    "\n",
    "uk_schizophrenia_mean = united_kingdom_df['Schizophrenia'].mean()\n",
    "uk_schizophrenia_mean\n"
   ]
  },
  {
   "cell_type": "code",
   "execution_count": null,
   "metadata": {},
   "outputs": [],
   "source": [
    "#Calculate Independent (Two Sample) t-test\n",
    "stats.ttest_ind(united_states_df['Schizophrenia'], united_kingdom_df['Schizophrenia'], equal_var=False)"
   ]
  },
  {
   "cell_type": "markdown",
   "metadata": {},
   "source": [
    "Based on this t-test it is safe to say that the average suffering with Schzophrenia in the United States is higher than the United Kingdom."
   ]
  },
  {
   "cell_type": "code",
   "execution_count": null,
   "metadata": {},
   "outputs": [],
   "source": [
    "us_bipolar_disorder_mean = united_states_df['Bipolar disorder'].mean()\n",
    "us_bipolar_disorder_mean"
   ]
  },
  {
   "cell_type": "code",
   "execution_count": null,
   "metadata": {},
   "outputs": [],
   "source": [
    "uk_bipolar_disorder_mean = united_kingdom_df['Bipolar disorder'].mean()\n",
    "uk_bipolar_disorder_mean"
   ]
  },
  {
   "cell_type": "code",
   "execution_count": null,
   "metadata": {},
   "outputs": [],
   "source": [
    "stats.ttest_ind(united_states_df['Bipolar disorder'], united_kingdom_df['Bipolar disorder'], equal_var=False)"
   ]
  },
  {
   "cell_type": "markdown",
   "metadata": {},
   "source": [
    "The population percentage in the UK suffering from bipolar disorder is higher than the population percentage in the US."
   ]
  },
  {
   "cell_type": "code",
   "execution_count": null,
   "metadata": {},
   "outputs": [],
   "source": [
    "us_eating_disorder_mean = united_states_df['Eating disorders'].mean()\n",
    "us_eating_disorder_mean"
   ]
  },
  {
   "cell_type": "code",
   "execution_count": null,
   "metadata": {},
   "outputs": [],
   "source": [
    "uk_eating_disorder_mean = united_kingdom_df['Eating disorders'].mean()\n",
    "uk_eating_disorder_mean"
   ]
  },
  {
   "cell_type": "code",
   "execution_count": null,
   "metadata": {},
   "outputs": [],
   "source": [
    "stats.ttest_ind(united_states_df['Eating disorders'], united_kingdom_df['Eating disorders'], equal_var=False)"
   ]
  },
  {
   "cell_type": "markdown",
   "metadata": {},
   "source": [
    "The population percentage in the US suffering from eating disorders is higher than the UK."
   ]
  },
  {
   "cell_type": "code",
   "execution_count": null,
   "metadata": {},
   "outputs": [],
   "source": [
    "us_anxiety_disorder_mean = united_states_df['Anxiety disorders'].mean()\n",
    "us_anxiety_disorder_mean"
   ]
  },
  {
   "cell_type": "code",
   "execution_count": null,
   "metadata": {},
   "outputs": [],
   "source": [
    "uk_anxiety_disorder_mean = united_kingdom_df['Anxiety disorders'].mean()\n",
    "uk_anxiety_disorder_mean"
   ]
  },
  {
   "cell_type": "code",
   "execution_count": null,
   "metadata": {},
   "outputs": [],
   "source": [
    "stats.ttest_ind(united_states_df['Anxiety disorders'], united_kingdom_df['Anxiety disorders'], equal_var=False)"
   ]
  },
  {
   "cell_type": "markdown",
   "metadata": {},
   "source": [
    "The population percentage in the US suffering from Anxiety disorders is higher than the UK."
   ]
  },
  {
   "cell_type": "code",
   "execution_count": null,
   "metadata": {},
   "outputs": [],
   "source": [
    "us_drug_use_mean = united_states_df['Drug use disorders'].mean()\n",
    "us_drug_use_mean"
   ]
  },
  {
   "cell_type": "code",
   "execution_count": null,
   "metadata": {},
   "outputs": [],
   "source": [
    "uk_drug_use_mean = united_kingdom_df['Drug use disorders'].mean()\n",
    "uk_drug_use_mean"
   ]
  },
  {
   "cell_type": "code",
   "execution_count": null,
   "metadata": {},
   "outputs": [],
   "source": [
    "stats.ttest_ind(united_states_df['Drug use disorders'], united_kingdom_df['Drug use disorders'], equal_var=False)"
   ]
  },
  {
   "cell_type": "markdown",
   "metadata": {},
   "source": [
    "The population percentage in the US suffering from Drug use disorders is higher than the UK."
   ]
  },
  {
   "cell_type": "code",
   "execution_count": null,
   "metadata": {},
   "outputs": [],
   "source": [
    "us_depressive_disorder_mean = united_states_df['Depressive disorders'].mean()\n",
    "us_depressive_disorder_mean"
   ]
  },
  {
   "cell_type": "code",
   "execution_count": null,
   "metadata": {},
   "outputs": [],
   "source": [
    "uk_depressive_disorder_mean = united_kingdom_df['Depressive disorders'].mean()\n",
    "uk_depressive_disorder_mean"
   ]
  },
  {
   "cell_type": "code",
   "execution_count": null,
   "metadata": {},
   "outputs": [],
   "source": [
    "stats.ttest_ind(united_states_df['Depressive disorders'], united_kingdom_df['Depressive disorders'], equal_var=False)"
   ]
  },
  {
   "cell_type": "markdown",
   "metadata": {},
   "source": [
    "The population percentage in the US suffering from Depressive disorders is higher than the UK."
   ]
  },
  {
   "cell_type": "code",
   "execution_count": null,
   "metadata": {},
   "outputs": [],
   "source": [
    "us_alcohol_use_mean = united_states_df['Alcohol use disorders'].mean()\n",
    "us_alcohol_use_mean "
   ]
  },
  {
   "cell_type": "code",
   "execution_count": null,
   "metadata": {},
   "outputs": [],
   "source": [
    "uk_alcohol_use_mean = united_kingdom_df['Alcohol use disorders'].mean()\n",
    "uk_alcohol_use_mean"
   ]
  },
  {
   "cell_type": "code",
   "execution_count": null,
   "metadata": {},
   "outputs": [],
   "source": [
    "stats.ttest_ind(united_states_df['Alcohol use disorders'], united_kingdom_df['Alcohol use disorders'], equal_var=False)"
   ]
  },
  {
   "cell_type": "markdown",
   "metadata": {},
   "source": [
    "The population percentage in the UK suffering from Alcohol use is higher than the US."
   ]
  },
  {
   "cell_type": "code",
   "execution_count": null,
   "metadata": {},
   "outputs": [],
   "source": [
    "#perform some t-tests for DALY dataset\n",
    "daly_united_states_df = dalys_df.loc[dalys_df['Entity'] == 'United States']\n",
    "daly_united_kingdom_df = dalys_df.loc[dalys_df['Entity'] == 'United Kingdom']\n",
    "\n",
    "us_daly_mean = daly_united_states_df['DALYs'].mean()\n",
    "us_daly_mean"
   ]
  },
  {
   "cell_type": "code",
   "execution_count": null,
   "metadata": {},
   "outputs": [],
   "source": [
    "uk_daly_mean = daly_united_kingdom_df['DALYs'].mean()\n",
    "uk_daly_mean"
   ]
  },
  {
   "cell_type": "code",
   "execution_count": null,
   "metadata": {},
   "outputs": [],
   "source": [
    "stats.ttest_ind(daly_united_states_df['DALYs'], daly_united_kingdom_df['DALYs'], equal_var=False)"
   ]
  },
  {
   "cell_type": "markdown",
   "metadata": {},
   "source": [
    "The Disability-Adjusted Life Years is higher in the US than the UK."
   ]
  },
  {
   "cell_type": "markdown",
   "metadata": {},
   "source": [
    "## Analysis Disorder Trends Year - over - Year"
   ]
  },
  {
   "cell_type": "code",
   "execution_count": null,
   "metadata": {},
   "outputs": [],
   "source": [
    "trend = pd.DataFrame(columns = ['Country','Diesces','Slope','R-Value'])\n",
    "\n",
    "for c in countries_of_interest:\n",
    "    df = disease_df[disease_df['Entity'] == c]\n",
    "    for d in diseases:\n",
    "        (slope, intercept, rvalue, pvalue, stderr) = stats.linregress(df['Year'], df[d])\n",
    "        temp = pd.DataFrame([{'Country': c, 'Diesces': d, 'Slope': slope, 'R-Value': rvalue}])\n",
    "        trend= pd.concat([trend, temp])  \n",
    "\n",
    "trend_signifin = trend[abs(trend['R-Value']) >= .7  ]"
   ]
  },
  {
   "cell_type": "code",
   "execution_count": null,
   "metadata": {},
   "outputs": [],
   "source": [
    "# Top correlation\n",
    "trend2 = trend_signifin.sort_values(['R-Value'], ascending = False)\n",
    "trend2.head()"
   ]
  },
  {
   "cell_type": "code",
   "execution_count": null,
   "metadata": {},
   "outputs": [],
   "source": [
    "# Top Increasing disorders Diesces and Country\n",
    "trend3 = trend_signifin.sort_values(['Slope'], ascending = False)\n",
    "trend3.head()"
   ]
  },
  {
   "cell_type": "code",
   "execution_count": null,
   "metadata": {},
   "outputs": [],
   "source": [
    "# Top Decreasing disorders Diesces and Country\n",
    "trend3.tail()"
   ]
  },
  {
   "cell_type": "code",
   "execution_count": null,
   "metadata": {},
   "outputs": [],
   "source": [
    "plt.bar(trend3['Country'] + trend3['Diesces']  ,trend3['Slope'])\n",
    "plt.xticks(rotation = 90)\n",
    "plt.ylabel('Year over Year Change')\n",
    "plt.title('Trend of % of Population with Disorders by Country')\n",
    "for i in range(-2, 6):\n",
    "    plt.axhline(y=i/100, c='black', linewidth=0.5)\n",
    "plt.axhline(y=0, c='black', linewidth=1.5)\n",
    "plt.show()"
   ]
  },
  {
   "cell_type": "markdown",
   "metadata": {},
   "source": [
    "## Increasing Disorders are:\n",
    "#    1. United States Drug Disorders\n",
    "#    2. United Kingdom Alchol Discordes\n",
    "#    3. United Kingdom Drug use disorders\n",
    "#    4. Germany\tDepressive disorders\n",
    "#     5. Lesotho\tDepressive disorders\t\n",
    "\n",
    "## Decreasing Disorders:\n",
    "# 1. China\tDepressive disorders\t\n",
    "# 2. Japan\tAnxiety disorders\n",
    "# 3. United States\tAlcohol use disorders\n",
    "# 4. China\tAnxiety disorders\n",
    "# 5. Germany\tAlcohol use disorders\t"
   ]
  },
  {
   "cell_type": "code",
   "execution_count": null,
   "metadata": {},
   "outputs": [],
   "source": [
    "# Are disorders generatry increasing or decreasing\n",
    "trend3[trend3['Slope']>0]['Slope'].count()/ trend3['Slope'].count()"
   ]
  },
  {
   "cell_type": "markdown",
   "metadata": {},
   "source": [
    "# We hope these cat pictures can make you feel better!"
   ]
  },
  {
   "cell_type": "code",
   "execution_count": null,
   "metadata": {},
   "outputs": [],
   "source": [
    "#create function for cat displaying\n",
    "url = f'https://api.thecatapi.com/v1/images/search'\n",
    "def print_cat():\n",
    "    response = requests.request('GET', url)\n",
    "    if response.status_code ==200:\n",
    "        cat = response.json()\n",
    "        cat_url = cat[0]['url']\n",
    "        display(Image(url = cat_url))\n",
    "    else:\n",
    "        print('Could not get picture of cat!')"
   ]
  },
  {
   "cell_type": "code",
   "execution_count": null,
   "metadata": {},
   "outputs": [],
   "source": [
    "for num in range(1,5):\n",
    "    print_cat()"
   ]
  }
 ],
 "metadata": {
  "kernelspec": {
   "display_name": "dev",
   "language": "python",
   "name": "python3"
  },
  "language_info": {
   "codemirror_mode": {
    "name": "ipython",
    "version": 3
   },
   "file_extension": ".py",
   "mimetype": "text/x-python",
   "name": "python",
   "nbconvert_exporter": "python",
   "pygments_lexer": "ipython3",
   "version": "3.10.13"
  }
 },
 "nbformat": 4,
 "nbformat_minor": 2
}
