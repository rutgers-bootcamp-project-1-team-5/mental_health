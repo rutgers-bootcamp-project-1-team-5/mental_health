{
 "cells": [
  {
   "cell_type": "code",
   "execution_count": 1,
   "metadata": {},
   "outputs": [
    {
     "data": {
      "application/javascript": "(function(root) {\n  function now() {\n    return new Date();\n  }\n\n  var force = true;\n  var py_version = '3.2.1'.replace('rc', '-rc.').replace('.dev', '-dev.');\n  var is_dev = py_version.indexOf(\"+\") !== -1 || py_version.indexOf(\"-\") !== -1;\n  var reloading = false;\n  var Bokeh = root.Bokeh;\n  var bokeh_loaded = Bokeh != null && (Bokeh.version === py_version || (Bokeh.versions !== undefined && Bokeh.versions.has(py_version)));\n\n  if (typeof (root._bokeh_timeout) === \"undefined\" || force) {\n    root._bokeh_timeout = Date.now() + 5000;\n    root._bokeh_failed_load = false;\n  }\n\n  function run_callbacks() {\n    try {\n      root._bokeh_onload_callbacks.forEach(function(callback) {\n        if (callback != null)\n          callback();\n      });\n    } finally {\n      delete root._bokeh_onload_callbacks;\n    }\n    console.debug(\"Bokeh: all callbacks have finished\");\n  }\n\n  function load_libs(css_urls, js_urls, js_modules, js_exports, callback) {\n    if (css_urls == null) css_urls = [];\n    if (js_urls == null) js_urls = [];\n    if (js_modules == null) js_modules = [];\n    if (js_exports == null) js_exports = {};\n\n    root._bokeh_onload_callbacks.push(callback);\n\n    if (root._bokeh_is_loading > 0) {\n      console.debug(\"Bokeh: BokehJS is being loaded, scheduling callback at\", now());\n      return null;\n    }\n    if (js_urls.length === 0 && js_modules.length === 0 && Object.keys(js_exports).length === 0) {\n      run_callbacks();\n      return null;\n    }\n    if (!reloading) {\n      console.debug(\"Bokeh: BokehJS not loaded, scheduling load and callback at\", now());\n    }\n\n    function on_load() {\n      root._bokeh_is_loading--;\n      if (root._bokeh_is_loading === 0) {\n        console.debug(\"Bokeh: all BokehJS libraries/stylesheets loaded\");\n        run_callbacks()\n      }\n    }\n    window._bokeh_on_load = on_load\n\n    function on_error() {\n      console.error(\"failed to load \" + url);\n    }\n\n    var skip = [];\n    if (window.requirejs) {\n      window.requirejs.config({'packages': {}, 'paths': {'jspanel': 'https://cdn.jsdelivr.net/npm/jspanel4@4.12.0/dist/jspanel', 'jspanel-modal': 'https://cdn.jsdelivr.net/npm/jspanel4@4.12.0/dist/extensions/modal/jspanel.modal', 'jspanel-tooltip': 'https://cdn.jsdelivr.net/npm/jspanel4@4.12.0/dist/extensions/tooltip/jspanel.tooltip', 'jspanel-hint': 'https://cdn.jsdelivr.net/npm/jspanel4@4.12.0/dist/extensions/hint/jspanel.hint', 'jspanel-layout': 'https://cdn.jsdelivr.net/npm/jspanel4@4.12.0/dist/extensions/layout/jspanel.layout', 'jspanel-contextmenu': 'https://cdn.jsdelivr.net/npm/jspanel4@4.12.0/dist/extensions/contextmenu/jspanel.contextmenu', 'jspanel-dock': 'https://cdn.jsdelivr.net/npm/jspanel4@4.12.0/dist/extensions/dock/jspanel.dock', 'gridstack': 'https://cdn.jsdelivr.net/npm/gridstack@7.2.3/dist/gridstack-all', 'notyf': 'https://cdn.jsdelivr.net/npm/notyf@3/notyf.min'}, 'shim': {'jspanel': {'exports': 'jsPanel'}, 'gridstack': {'exports': 'GridStack'}}});\n      require([\"jspanel\"], function(jsPanel) {\n\twindow.jsPanel = jsPanel\n\ton_load()\n      })\n      require([\"jspanel-modal\"], function() {\n\ton_load()\n      })\n      require([\"jspanel-tooltip\"], function() {\n\ton_load()\n      })\n      require([\"jspanel-hint\"], function() {\n\ton_load()\n      })\n      require([\"jspanel-layout\"], function() {\n\ton_load()\n      })\n      require([\"jspanel-contextmenu\"], function() {\n\ton_load()\n      })\n      require([\"jspanel-dock\"], function() {\n\ton_load()\n      })\n      require([\"gridstack\"], function(GridStack) {\n\twindow.GridStack = GridStack\n\ton_load()\n      })\n      require([\"notyf\"], function() {\n\ton_load()\n      })\n      root._bokeh_is_loading = css_urls.length + 9;\n    } else {\n      root._bokeh_is_loading = css_urls.length + js_urls.length + js_modules.length + Object.keys(js_exports).length;\n    }\n\n    var existing_stylesheets = []\n    var links = document.getElementsByTagName('link')\n    for (var i = 0; i < links.length; i++) {\n      var link = links[i]\n      if (link.href != null) {\n\texisting_stylesheets.push(link.href)\n      }\n    }\n    for (var i = 0; i < css_urls.length; i++) {\n      var url = css_urls[i];\n      if (existing_stylesheets.indexOf(url) !== -1) {\n\ton_load()\n\tcontinue;\n      }\n      const element = document.createElement(\"link\");\n      element.onload = on_load;\n      element.onerror = on_error;\n      element.rel = \"stylesheet\";\n      element.type = \"text/css\";\n      element.href = url;\n      console.debug(\"Bokeh: injecting link tag for BokehJS stylesheet: \", url);\n      document.body.appendChild(element);\n    }    if (((window['jsPanel'] !== undefined) && (!(window['jsPanel'] instanceof HTMLElement))) || window.requirejs) {\n      var urls = ['https://cdn.holoviz.org/panel/1.2.3/dist/bundled/floatpanel/jspanel4@4.12.0/dist/jspanel.js', 'https://cdn.holoviz.org/panel/1.2.3/dist/bundled/floatpanel/jspanel4@4.12.0/dist/extensions/modal/jspanel.modal.js', 'https://cdn.holoviz.org/panel/1.2.3/dist/bundled/floatpanel/jspanel4@4.12.0/dist/extensions/tooltip/jspanel.tooltip.js', 'https://cdn.holoviz.org/panel/1.2.3/dist/bundled/floatpanel/jspanel4@4.12.0/dist/extensions/hint/jspanel.hint.js', 'https://cdn.holoviz.org/panel/1.2.3/dist/bundled/floatpanel/jspanel4@4.12.0/dist/extensions/layout/jspanel.layout.js', 'https://cdn.holoviz.org/panel/1.2.3/dist/bundled/floatpanel/jspanel4@4.12.0/dist/extensions/contextmenu/jspanel.contextmenu.js', 'https://cdn.holoviz.org/panel/1.2.3/dist/bundled/floatpanel/jspanel4@4.12.0/dist/extensions/dock/jspanel.dock.js'];\n      for (var i = 0; i < urls.length; i++) {\n        skip.push(urls[i])\n      }\n    }    if (((window['GridStack'] !== undefined) && (!(window['GridStack'] instanceof HTMLElement))) || window.requirejs) {\n      var urls = ['https://cdn.holoviz.org/panel/1.2.3/dist/bundled/gridstack/gridstack@7.2.3/dist/gridstack-all.js'];\n      for (var i = 0; i < urls.length; i++) {\n        skip.push(urls[i])\n      }\n    }    if (((window['Notyf'] !== undefined) && (!(window['Notyf'] instanceof HTMLElement))) || window.requirejs) {\n      var urls = ['https://cdn.holoviz.org/panel/1.2.3/dist/bundled/notificationarea/notyf@3/notyf.min.js'];\n      for (var i = 0; i < urls.length; i++) {\n        skip.push(urls[i])\n      }\n    }    var existing_scripts = []\n    var scripts = document.getElementsByTagName('script')\n    for (var i = 0; i < scripts.length; i++) {\n      var script = scripts[i]\n      if (script.src != null) {\n\texisting_scripts.push(script.src)\n      }\n    }\n    for (var i = 0; i < js_urls.length; i++) {\n      var url = js_urls[i];\n      if (skip.indexOf(url) !== -1 || existing_scripts.indexOf(url) !== -1) {\n\tif (!window.requirejs) {\n\t  on_load();\n\t}\n\tcontinue;\n      }\n      var element = document.createElement('script');\n      element.onload = on_load;\n      element.onerror = on_error;\n      element.async = false;\n      element.src = url;\n      console.debug(\"Bokeh: injecting script tag for BokehJS library: \", url);\n      document.head.appendChild(element);\n    }\n    for (var i = 0; i < js_modules.length; i++) {\n      var url = js_modules[i];\n      if (skip.indexOf(url) !== -1 || existing_scripts.indexOf(url) !== -1) {\n\tif (!window.requirejs) {\n\t  on_load();\n\t}\n\tcontinue;\n      }\n      var element = document.createElement('script');\n      element.onload = on_load;\n      element.onerror = on_error;\n      element.async = false;\n      element.src = url;\n      element.type = \"module\";\n      console.debug(\"Bokeh: injecting script tag for BokehJS library: \", url);\n      document.head.appendChild(element);\n    }\n    for (const name in js_exports) {\n      var url = js_exports[name];\n      if (skip.indexOf(url) >= 0 || root[name] != null) {\n\tif (!window.requirejs) {\n\t  on_load();\n\t}\n\tcontinue;\n      }\n      var element = document.createElement('script');\n      element.onerror = on_error;\n      element.async = false;\n      element.type = \"module\";\n      console.debug(\"Bokeh: injecting script tag for BokehJS library: \", url);\n      element.textContent = `\n      import ${name} from \"${url}\"\n      window.${name} = ${name}\n      window._bokeh_on_load()\n      `\n      document.head.appendChild(element);\n    }\n    if (!js_urls.length && !js_modules.length) {\n      on_load()\n    }\n  };\n\n  function inject_raw_css(css) {\n    const element = document.createElement(\"style\");\n    element.appendChild(document.createTextNode(css));\n    document.body.appendChild(element);\n  }\n\n  var js_urls = [\"https://cdn.bokeh.org/bokeh/release/bokeh-3.2.1.min.js\", \"https://cdn.bokeh.org/bokeh/release/bokeh-gl-3.2.1.min.js\", \"https://cdn.bokeh.org/bokeh/release/bokeh-widgets-3.2.1.min.js\", \"https://cdn.bokeh.org/bokeh/release/bokeh-tables-3.2.1.min.js\", \"https://cdn.holoviz.org/panel/1.2.3/dist/panel.min.js\"];\n  var js_modules = [];\n  var js_exports = {};\n  var css_urls = [];\n  var inline_js = [    function(Bokeh) {\n      Bokeh.set_log_level(\"info\");\n    },\nfunction(Bokeh) {} // ensure no trailing comma for IE\n  ];\n\n  function run_inline_js() {\n    if ((root.Bokeh !== undefined) || (force === true)) {\n      for (var i = 0; i < inline_js.length; i++) {\n        inline_js[i].call(root, root.Bokeh);\n      }\n      // Cache old bokeh versions\n      if (Bokeh != undefined && !reloading) {\n\tvar NewBokeh = root.Bokeh;\n\tif (Bokeh.versions === undefined) {\n\t  Bokeh.versions = new Map();\n\t}\n\tif (NewBokeh.version !== Bokeh.version) {\n\t  Bokeh.versions.set(NewBokeh.version, NewBokeh)\n\t}\n\troot.Bokeh = Bokeh;\n      }} else if (Date.now() < root._bokeh_timeout) {\n      setTimeout(run_inline_js, 100);\n    } else if (!root._bokeh_failed_load) {\n      console.log(\"Bokeh: BokehJS failed to load within specified timeout.\");\n      root._bokeh_failed_load = true;\n    }\n    root._bokeh_is_initializing = false\n  }\n\n  function load_or_wait() {\n    // Implement a backoff loop that tries to ensure we do not load multiple\n    // versions of Bokeh and its dependencies at the same time.\n    // In recent versions we use the root._bokeh_is_initializing flag\n    // to determine whether there is an ongoing attempt to initialize\n    // bokeh, however for backward compatibility we also try to ensure\n    // that we do not start loading a newer (Panel>=1.0 and Bokeh>3) version\n    // before older versions are fully initialized.\n    if (root._bokeh_is_initializing && Date.now() > root._bokeh_timeout) {\n      root._bokeh_is_initializing = false;\n      root._bokeh_onload_callbacks = undefined;\n      console.log(\"Bokeh: BokehJS was loaded multiple times but one version failed to initialize.\");\n      load_or_wait();\n    } else if (root._bokeh_is_initializing || (typeof root._bokeh_is_initializing === \"undefined\" && root._bokeh_onload_callbacks !== undefined)) {\n      setTimeout(load_or_wait, 100);\n    } else {\n      Bokeh = root.Bokeh;\n      bokeh_loaded = Bokeh != null && (Bokeh.version === py_version || (Bokeh.versions !== undefined && Bokeh.versions.has(py_version)));\n      root._bokeh_is_initializing = true\n      root._bokeh_onload_callbacks = []\n      if (!reloading && (!bokeh_loaded || is_dev)) {\n\troot.Bokeh = undefined;\n      }\n      load_libs(css_urls, js_urls, js_modules, js_exports, function() {\n\tconsole.debug(\"Bokeh: BokehJS plotting callback run at\", now());\n\trun_inline_js();\n      });\n    }\n  }\n  // Give older versions of the autoload script a head-start to ensure\n  // they initialize before we start loading newer version.\n  setTimeout(load_or_wait, 100)\n}(window));",
      "application/vnd.holoviews_load.v0+json": ""
     },
     "metadata": {},
     "output_type": "display_data"
    },
    {
     "data": {
      "application/javascript": "\nif ((window.PyViz === undefined) || (window.PyViz instanceof HTMLElement)) {\n  window.PyViz = {comms: {}, comm_status:{}, kernels:{}, receivers: {}, plot_index: []}\n}\n\n\n    function JupyterCommManager() {\n    }\n\n    JupyterCommManager.prototype.register_target = function(plot_id, comm_id, msg_handler) {\n      if (window.comm_manager || ((window.Jupyter !== undefined) && (Jupyter.notebook.kernel != null))) {\n        var comm_manager = window.comm_manager || Jupyter.notebook.kernel.comm_manager;\n        comm_manager.register_target(comm_id, function(comm) {\n          comm.on_msg(msg_handler);\n        });\n      } else if ((plot_id in window.PyViz.kernels) && (window.PyViz.kernels[plot_id])) {\n        window.PyViz.kernels[plot_id].registerCommTarget(comm_id, function(comm) {\n          comm.onMsg = msg_handler;\n        });\n      } else if (typeof google != 'undefined' && google.colab.kernel != null) {\n        google.colab.kernel.comms.registerTarget(comm_id, (comm) => {\n          var messages = comm.messages[Symbol.asyncIterator]();\n          function processIteratorResult(result) {\n            var message = result.value;\n            console.log(message)\n            var content = {data: message.data, comm_id};\n            var buffers = []\n            for (var buffer of message.buffers || []) {\n              buffers.push(new DataView(buffer))\n            }\n            var metadata = message.metadata || {};\n            var msg = {content, buffers, metadata}\n            msg_handler(msg);\n            return messages.next().then(processIteratorResult);\n          }\n          return messages.next().then(processIteratorResult);\n        })\n      }\n    }\n\n    JupyterCommManager.prototype.get_client_comm = function(plot_id, comm_id, msg_handler) {\n      if (comm_id in window.PyViz.comms) {\n        return window.PyViz.comms[comm_id];\n      } else if (window.comm_manager || ((window.Jupyter !== undefined) && (Jupyter.notebook.kernel != null))) {\n        var comm_manager = window.comm_manager || Jupyter.notebook.kernel.comm_manager;\n        var comm = comm_manager.new_comm(comm_id, {}, {}, {}, comm_id);\n        if (msg_handler) {\n          comm.on_msg(msg_handler);\n        }\n      } else if ((plot_id in window.PyViz.kernels) && (window.PyViz.kernels[plot_id])) {\n        var comm = window.PyViz.kernels[plot_id].connectToComm(comm_id);\n        comm.open();\n        if (msg_handler) {\n          comm.onMsg = msg_handler;\n        }\n      } else if (typeof google != 'undefined' && google.colab.kernel != null) {\n        var comm_promise = google.colab.kernel.comms.open(comm_id)\n        comm_promise.then((comm) => {\n          window.PyViz.comms[comm_id] = comm;\n          if (msg_handler) {\n            var messages = comm.messages[Symbol.asyncIterator]();\n            function processIteratorResult(result) {\n              var message = result.value;\n              var content = {data: message.data};\n              var metadata = message.metadata || {comm_id};\n              var msg = {content, metadata}\n              msg_handler(msg);\n              return messages.next().then(processIteratorResult);\n            }\n            return messages.next().then(processIteratorResult);\n          }\n        }) \n        var sendClosure = (data, metadata, buffers, disposeOnDone) => {\n          return comm_promise.then((comm) => {\n            comm.send(data, metadata, buffers, disposeOnDone);\n          });\n        };\n        var comm = {\n          send: sendClosure\n        };\n      }\n      window.PyViz.comms[comm_id] = comm;\n      return comm;\n    }\n    window.PyViz.comm_manager = new JupyterCommManager();\n    \n\n\nvar JS_MIME_TYPE = 'application/javascript';\nvar HTML_MIME_TYPE = 'text/html';\nvar EXEC_MIME_TYPE = 'application/vnd.holoviews_exec.v0+json';\nvar CLASS_NAME = 'output';\n\n/**\n * Render data to the DOM node\n */\nfunction render(props, node) {\n  var div = document.createElement(\"div\");\n  var script = document.createElement(\"script\");\n  node.appendChild(div);\n  node.appendChild(script);\n}\n\n/**\n * Handle when a new output is added\n */\nfunction handle_add_output(event, handle) {\n  var output_area = handle.output_area;\n  var output = handle.output;\n  if ((output.data == undefined) || (!output.data.hasOwnProperty(EXEC_MIME_TYPE))) {\n    return\n  }\n  var id = output.metadata[EXEC_MIME_TYPE][\"id\"];\n  var toinsert = output_area.element.find(\".\" + CLASS_NAME.split(' ')[0]);\n  if (id !== undefined) {\n    var nchildren = toinsert.length;\n    var html_node = toinsert[nchildren-1].children[0];\n    html_node.innerHTML = output.data[HTML_MIME_TYPE];\n    var scripts = [];\n    var nodelist = html_node.querySelectorAll(\"script\");\n    for (var i in nodelist) {\n      if (nodelist.hasOwnProperty(i)) {\n        scripts.push(nodelist[i])\n      }\n    }\n\n    scripts.forEach( function (oldScript) {\n      var newScript = document.createElement(\"script\");\n      var attrs = [];\n      var nodemap = oldScript.attributes;\n      for (var j in nodemap) {\n        if (nodemap.hasOwnProperty(j)) {\n          attrs.push(nodemap[j])\n        }\n      }\n      attrs.forEach(function(attr) { newScript.setAttribute(attr.name, attr.value) });\n      newScript.appendChild(document.createTextNode(oldScript.innerHTML));\n      oldScript.parentNode.replaceChild(newScript, oldScript);\n    });\n    if (JS_MIME_TYPE in output.data) {\n      toinsert[nchildren-1].children[1].textContent = output.data[JS_MIME_TYPE];\n    }\n    output_area._hv_plot_id = id;\n    if ((window.Bokeh !== undefined) && (id in Bokeh.index)) {\n      window.PyViz.plot_index[id] = Bokeh.index[id];\n    } else {\n      window.PyViz.plot_index[id] = null;\n    }\n  } else if (output.metadata[EXEC_MIME_TYPE][\"server_id\"] !== undefined) {\n    var bk_div = document.createElement(\"div\");\n    bk_div.innerHTML = output.data[HTML_MIME_TYPE];\n    var script_attrs = bk_div.children[0].attributes;\n    for (var i = 0; i < script_attrs.length; i++) {\n      toinsert[toinsert.length - 1].childNodes[1].setAttribute(script_attrs[i].name, script_attrs[i].value);\n    }\n    // store reference to server id on output_area\n    output_area._bokeh_server_id = output.metadata[EXEC_MIME_TYPE][\"server_id\"];\n  }\n}\n\n/**\n * Handle when an output is cleared or removed\n */\nfunction handle_clear_output(event, handle) {\n  var id = handle.cell.output_area._hv_plot_id;\n  var server_id = handle.cell.output_area._bokeh_server_id;\n  if (((id === undefined) || !(id in PyViz.plot_index)) && (server_id !== undefined)) { return; }\n  var comm = window.PyViz.comm_manager.get_client_comm(\"hv-extension-comm\", \"hv-extension-comm\", function () {});\n  if (server_id !== null) {\n    comm.send({event_type: 'server_delete', 'id': server_id});\n    return;\n  } else if (comm !== null) {\n    comm.send({event_type: 'delete', 'id': id});\n  }\n  delete PyViz.plot_index[id];\n  if ((window.Bokeh !== undefined) & (id in window.Bokeh.index)) {\n    var doc = window.Bokeh.index[id].model.document\n    doc.clear();\n    const i = window.Bokeh.documents.indexOf(doc);\n    if (i > -1) {\n      window.Bokeh.documents.splice(i, 1);\n    }\n  }\n}\n\n/**\n * Handle kernel restart event\n */\nfunction handle_kernel_cleanup(event, handle) {\n  delete PyViz.comms[\"hv-extension-comm\"];\n  window.PyViz.plot_index = {}\n}\n\n/**\n * Handle update_display_data messages\n */\nfunction handle_update_output(event, handle) {\n  handle_clear_output(event, {cell: {output_area: handle.output_area}})\n  handle_add_output(event, handle)\n}\n\nfunction register_renderer(events, OutputArea) {\n  function append_mime(data, metadata, element) {\n    // create a DOM node to render to\n    var toinsert = this.create_output_subarea(\n    metadata,\n    CLASS_NAME,\n    EXEC_MIME_TYPE\n    );\n    this.keyboard_manager.register_events(toinsert);\n    // Render to node\n    var props = {data: data, metadata: metadata[EXEC_MIME_TYPE]};\n    render(props, toinsert[0]);\n    element.append(toinsert);\n    return toinsert\n  }\n\n  events.on('output_added.OutputArea', handle_add_output);\n  events.on('output_updated.OutputArea', handle_update_output);\n  events.on('clear_output.CodeCell', handle_clear_output);\n  events.on('delete.Cell', handle_clear_output);\n  events.on('kernel_ready.Kernel', handle_kernel_cleanup);\n\n  OutputArea.prototype.register_mime_type(EXEC_MIME_TYPE, append_mime, {\n    safe: true,\n    index: 0\n  });\n}\n\nif (window.Jupyter !== undefined) {\n  try {\n    var events = require('base/js/events');\n    var OutputArea = require('notebook/js/outputarea').OutputArea;\n    if (OutputArea.prototype.mime_types().indexOf(EXEC_MIME_TYPE) == -1) {\n      register_renderer(events, OutputArea);\n    }\n  } catch(err) {\n  }\n}\n",
      "application/vnd.holoviews_load.v0+json": ""
     },
     "metadata": {},
     "output_type": "display_data"
    },
    {
     "data": {
      "text/html": [
       "<style>*[data-root-id],\n",
       "*[data-root-id] > * {\n",
       "  box-sizing: border-box;\n",
       "  font-family: var(--jp-ui-font-family);\n",
       "  font-size: var(--jp-ui-font-size1);\n",
       "  color: var(--vscode-editor-foreground, var(--jp-ui-font-color1));\n",
       "}\n",
       "\n",
       "/* Override VSCode background color */\n",
       ".cell-output-ipywidget-background:has(\n",
       "    > .cell-output-ipywidget-background > .lm-Widget > *[data-root-id]\n",
       "  ),\n",
       ".cell-output-ipywidget-background:has(> .lm-Widget > *[data-root-id]) {\n",
       "  background-color: transparent !important;\n",
       "}\n",
       "</style>"
      ]
     },
     "metadata": {},
     "output_type": "display_data"
    }
   ],
   "source": [
    "import hvplot.pandas\n",
    "import matplotlib.pyplot as plt\n",
    "import pandas as pd\n",
    "import requests\n",
    "\n",
    "from geopy.exc import GeocoderUnavailable\n",
    "from geopy.geocoders import Nominatim\n",
    "from IPython.display import Image\n",
    "from IPython.display import display\n",
    "from pathlib import Path\n",
    "from scipy import stats"
   ]
  },
  {
   "cell_type": "code",
   "execution_count": 2,
   "metadata": {},
   "outputs": [],
   "source": [
    "# Load in the relevant datasets\n",
    "\n",
    "# DALYs by country\n",
    "# DALYs are Disabililty Adjusted Life Years. This refers to the average number of years a citizen's life is shortened due to a disability (i.e. mental illness).\n",
    "dalys_df = pd.read_csv(Path('mental_health_dataset', 'mental-and-substance-use-as-share-of-disease.csv'))\n",
    "dalys_df = dalys_df.rename(columns={'DALYs (Disability-Adjusted Life Years) - Mental disorders - Sex: Both - Age: All Ages (Percent)' : 'DALYs'})\n",
    "\n",
    "# Prevalance of mental illness by country as a percentage of the country's population\n",
    "# The illnesses observed are schizophrenia, bipolar disorder, eating disorders, anxiety disorders, drug use disorders,depressive disorders, and alcohol use disorders\n",
    "disease_df = pd.read_csv(Path('mental_health_dataset', 'prevalence-by-mental-and-substance-use-disorder.csv'))\n",
    "disease_df = disease_df.rename(columns={\n",
    "    'Prevalence - Schizophrenia - Sex: Both - Age: Age-standardized (Percent)' : 'Schizophrenia',\n",
    "    'Prevalence - Bipolar disorder - Sex: Both - Age: Age-standardized (Percent)' : 'Bipolar disorder',\n",
    "    'Prevalence - Eating disorders - Sex: Both - Age: Age-standardized (Percent)' : 'Eating disorders',\n",
    "    'Prevalence - Anxiety disorders - Sex: Both - Age: Age-standardized (Percent)' : 'Anxiety disorders',\n",
    "    'Prevalence - Drug use disorders - Sex: Both - Age: Age-standardized (Percent)' : 'Drug use disorders',\n",
    "    'Prevalence - Depressive disorders - Sex: Both - Age: Age-standardized (Percent)' : 'Depressive disorders',\n",
    "    'Prevalence - Alcohol use disorders - Sex: Both - Age: Age-standardized (Percent)' : 'Alcohol use disorders'\n",
    "})"
   ]
  },
  {
   "cell_type": "markdown",
   "metadata": {},
   "source": [
    "# Data Cleaning"
   ]
  },
  {
   "cell_type": "code",
   "execution_count": 3,
   "metadata": {},
   "outputs": [
    {
     "data": {
      "text/html": [
       "<div>\n",
       "<style scoped>\n",
       "    .dataframe tbody tr th:only-of-type {\n",
       "        vertical-align: middle;\n",
       "    }\n",
       "\n",
       "    .dataframe tbody tr th {\n",
       "        vertical-align: top;\n",
       "    }\n",
       "\n",
       "    .dataframe thead th {\n",
       "        text-align: right;\n",
       "    }\n",
       "</style>\n",
       "<table border=\"1\" class=\"dataframe\">\n",
       "  <thead>\n",
       "    <tr style=\"text-align: right;\">\n",
       "      <th></th>\n",
       "      <th>Year</th>\n",
       "      <th>DALYs</th>\n",
       "    </tr>\n",
       "  </thead>\n",
       "  <tbody>\n",
       "    <tr>\n",
       "      <th>min</th>\n",
       "      <td>1990.0</td>\n",
       "      <td>0.215647</td>\n",
       "    </tr>\n",
       "    <tr>\n",
       "      <th>max</th>\n",
       "      <td>2019.0</td>\n",
       "      <td>13.761517</td>\n",
       "    </tr>\n",
       "  </tbody>\n",
       "</table>\n",
       "</div>"
      ],
      "text/plain": [
       "       Year      DALYs\n",
       "min  1990.0   0.215647\n",
       "max  2019.0  13.761517"
      ]
     },
     "execution_count": 3,
     "metadata": {},
     "output_type": "execute_result"
    }
   ],
   "source": [
    "dalys_df.dropna()\n",
    "dalys_df.describe().loc[['min', 'max']].astype(float)"
   ]
  },
  {
   "cell_type": "markdown",
   "metadata": {},
   "source": [
    "## Observations\n",
    "-  All N/A value have been removed from the DALYs dataset.<br>\n",
    "-  The minimum and maximum years fall within the expect range (1990-2019).<br>\n",
    "-  The minimum DALYs is greater than 0. Mental illness is not expected to prolong life. <br>\n",
    "-  The maximum DALYs is below 14 years. This value is expected to be lower than a human lifespan."
   ]
  },
  {
   "cell_type": "code",
   "execution_count": 4,
   "metadata": {},
   "outputs": [
    {
     "data": {
      "text/html": [
       "<div>\n",
       "<style scoped>\n",
       "    .dataframe tbody tr th:only-of-type {\n",
       "        vertical-align: middle;\n",
       "    }\n",
       "\n",
       "    .dataframe tbody tr th {\n",
       "        vertical-align: top;\n",
       "    }\n",
       "\n",
       "    .dataframe thead th {\n",
       "        text-align: right;\n",
       "    }\n",
       "</style>\n",
       "<table border=\"1\" class=\"dataframe\">\n",
       "  <thead>\n",
       "    <tr style=\"text-align: right;\">\n",
       "      <th></th>\n",
       "      <th>Year</th>\n",
       "      <th>Schizophrenia</th>\n",
       "      <th>Bipolar disorder</th>\n",
       "      <th>Eating disorders</th>\n",
       "      <th>Anxiety disorders</th>\n",
       "      <th>Drug use disorders</th>\n",
       "      <th>Depressive disorders</th>\n",
       "      <th>Alcohol use disorders</th>\n",
       "    </tr>\n",
       "  </thead>\n",
       "  <tbody>\n",
       "    <tr>\n",
       "      <th>min</th>\n",
       "      <td>1990.0</td>\n",
       "      <td>0.191621</td>\n",
       "      <td>0.189344</td>\n",
       "      <td>0.045425</td>\n",
       "      <td>1.974823</td>\n",
       "      <td>0.225471</td>\n",
       "      <td>1.640902</td>\n",
       "      <td>0.319900</td>\n",
       "    </tr>\n",
       "    <tr>\n",
       "      <th>max</th>\n",
       "      <td>2019.0</td>\n",
       "      <td>0.506018</td>\n",
       "      <td>1.676204</td>\n",
       "      <td>1.136541</td>\n",
       "      <td>9.015948</td>\n",
       "      <td>3.699504</td>\n",
       "      <td>7.688213</td>\n",
       "      <td>4.698694</td>\n",
       "    </tr>\n",
       "  </tbody>\n",
       "</table>\n",
       "</div>"
      ],
      "text/plain": [
       "       Year  Schizophrenia  Bipolar disorder  Eating disorders  \\\n",
       "min  1990.0       0.191621          0.189344          0.045425   \n",
       "max  2019.0       0.506018          1.676204          1.136541   \n",
       "\n",
       "     Anxiety disorders  Drug use disorders  Depressive disorders  \\\n",
       "min           1.974823            0.225471              1.640902   \n",
       "max           9.015948            3.699504              7.688213   \n",
       "\n",
       "     Alcohol use disorders  \n",
       "min               0.319900  \n",
       "max               4.698694  "
      ]
     },
     "execution_count": 4,
     "metadata": {},
     "output_type": "execute_result"
    }
   ],
   "source": [
    "disease_df.dropna()\n",
    "disease_df.describe().loc[['min', 'max']].astype(float)"
   ]
  },
  {
   "cell_type": "markdown",
   "metadata": {},
   "source": [
    "## Observations\n",
    "-  All N/A value have been removed from the diseases dataset.<br>\n",
    "-  The minimum and maximum years fall within the expect range (1990-2019).<br>\n",
    "-  The value for each disorder represents a percentage of a country's population. The lowest values should be greater than or (in a perfect world) equal to zero. The greatest values should not be a majority of the population of a country. 9.015948% seems to be a reasonable maximum value. This is the opinion of a data analyst, not a mental health professional."
   ]
  },
  {
   "cell_type": "markdown",
   "metadata": {},
   "source": [
    "# Question #1 - Is there a difference in mental health among geographical regions?"
   ]
  },
  {
   "cell_type": "code",
   "execution_count": 5,
   "metadata": {},
   "outputs": [
    {
     "name": "stdout",
     "output_type": "stream",
     "text": [
      "Retrieving geodata for Afghanistan...\n",
      "Retrieving geodata for Albania...\n",
      "Retrieving geodata for Algeria...\n",
      "Retrieving geodata for American Samoa...\n",
      "Latitude not for American Samoa.\n",
      "Longitude not for American Samoa.\n",
      "Retrieving geodata for Andorra...\n",
      "Retrieving geodata for Angola...\n",
      "Retrieving geodata for Antigua and Barbuda...\n",
      "Retrieving geodata for Argentina...\n",
      "Retrieving geodata for Armenia...\n",
      "Retrieving geodata for Australia...\n",
      "Retrieving geodata for Austria...\n",
      "Retrieving geodata for Azerbaijan...\n",
      "Retrieving geodata for Bahamas...\n",
      "Retrieving geodata for Bahrain...\n",
      "Retrieving geodata for Bangladesh...\n",
      "Retrieving geodata for Barbados...\n",
      "Retrieving geodata for Belarus...\n",
      "Retrieving geodata for Belgium...\n",
      "Retrieving geodata for Belize...\n",
      "Retrieving geodata for Benin...\n",
      "Retrieving geodata for Bermuda...\n",
      "Retrieving geodata for Bhutan...\n",
      "Retrieving geodata for Bolivia...\n",
      "Retrieving geodata for Bosnia and Herzegovina...\n",
      "Retrieving geodata for Botswana...\n",
      "Retrieving geodata for Brazil...\n",
      "Retrieving geodata for Brunei...\n",
      "Retrieving geodata for Bulgaria...\n",
      "Retrieving geodata for Burkina Faso...\n",
      "Retrieving geodata for Burundi...\n",
      "Retrieving geodata for Cambodia...\n",
      "Retrieving geodata for Cameroon...\n",
      "Retrieving geodata for Canada...\n",
      "Retrieving geodata for Cape Verde...\n",
      "Retrieving geodata for Central African Republic...\n",
      "Retrieving geodata for Chad...\n",
      "Retrieving geodata for Chile...\n",
      "Retrieving geodata for China...\n",
      "Retrieving geodata for Colombia...\n",
      "Retrieving geodata for Comoros...\n",
      "Retrieving geodata for Congo...\n",
      "Retrieving geodata for Cook Islands...\n",
      "Retrieving geodata for Costa Rica...\n",
      "Retrieving geodata for Cote d'Ivoire...\n",
      "Retrieving geodata for Croatia...\n",
      "Retrieving geodata for Cuba...\n",
      "Retrieving geodata for Cyprus...\n",
      "Retrieving geodata for Czechia...\n",
      "Retrieving geodata for Democratic Republic of Congo...\n",
      "Retrieving geodata for Denmark...\n",
      "Retrieving geodata for Djibouti...\n",
      "Retrieving geodata for Dominica...\n",
      "Retrieving geodata for Dominican Republic...\n",
      "Retrieving geodata for Ecuador...\n",
      "Retrieving geodata for Egypt...\n",
      "Retrieving geodata for El Salvador...\n",
      "Retrieving geodata for Equatorial Guinea...\n",
      "Retrieving geodata for Eritrea...\n",
      "Retrieving geodata for Estonia...\n",
      "Retrieving geodata for Eswatini...\n",
      "Retrieving geodata for Ethiopia...\n",
      "Retrieving geodata for Fiji...\n",
      "Retrieving geodata for Finland...\n",
      "Retrieving geodata for France...\n",
      "Retrieving geodata for Gabon...\n",
      "Retrieving geodata for Gambia...\n",
      "Retrieving geodata for Georgia...\n",
      "Retrieving geodata for Germany...\n",
      "Retrieving geodata for Ghana...\n",
      "Retrieving geodata for Greece...\n",
      "Retrieving geodata for Greenland...\n",
      "Retrieving geodata for Grenada...\n",
      "Retrieving geodata for Guam...\n",
      "Latitude not for Guam.\n",
      "Longitude not for Guam.\n",
      "Retrieving geodata for Guatemala...\n",
      "Retrieving geodata for Guinea...\n",
      "Retrieving geodata for Guinea-Bissau...\n",
      "Retrieving geodata for Guyana...\n",
      "Retrieving geodata for Haiti...\n",
      "Retrieving geodata for Honduras...\n",
      "Retrieving geodata for Hungary...\n",
      "Retrieving geodata for Iceland...\n",
      "Retrieving geodata for India...\n",
      "Retrieving geodata for Indonesia...\n",
      "Retrieving geodata for Iran...\n",
      "Retrieving geodata for Iraq...\n",
      "Retrieving geodata for Ireland...\n",
      "Retrieving geodata for Israel...\n",
      "Retrieving geodata for Italy...\n",
      "Retrieving geodata for Jamaica...\n",
      "Retrieving geodata for Japan...\n",
      "Retrieving geodata for Jordan...\n",
      "Retrieving geodata for Kazakhstan...\n",
      "Retrieving geodata for Kenya...\n",
      "Retrieving geodata for Kiribati...\n",
      "Retrieving geodata for Kuwait...\n",
      "Retrieving geodata for Kyrgyzstan...\n",
      "Retrieving geodata for Laos...\n",
      "Retrieving geodata for Latvia...\n",
      "Retrieving geodata for Lebanon...\n",
      "Retrieving geodata for Lesotho...\n",
      "Retrieving geodata for Liberia...\n",
      "Retrieving geodata for Libya...\n",
      "Retrieving geodata for Lithuania...\n",
      "Retrieving geodata for Luxembourg...\n",
      "Retrieving geodata for Madagascar...\n",
      "Retrieving geodata for Malawi...\n",
      "Retrieving geodata for Malaysia...\n",
      "Retrieving geodata for Maldives...\n",
      "Retrieving geodata for Mali...\n",
      "Retrieving geodata for Malta...\n",
      "Retrieving geodata for Marshall Islands...\n",
      "Retrieving geodata for Mauritania...\n",
      "Retrieving geodata for Mauritius...\n",
      "Retrieving geodata for Mexico...\n",
      "Retrieving geodata for Micronesia (country)...\n",
      "Latitude not for Micronesia (country).\n",
      "Longitude not for Micronesia (country).\n",
      "Retrieving geodata for Moldova...\n",
      "Retrieving geodata for Monaco...\n",
      "Retrieving geodata for Mongolia...\n",
      "Retrieving geodata for Montenegro...\n",
      "Retrieving geodata for Morocco...\n",
      "Retrieving geodata for Mozambique...\n",
      "Retrieving geodata for Myanmar...\n",
      "Retrieving geodata for Namibia...\n",
      "Retrieving geodata for Nauru...\n",
      "Retrieving geodata for Nepal...\n",
      "Retrieving geodata for Netherlands...\n",
      "Retrieving geodata for New Zealand...\n",
      "Retrieving geodata for Nicaragua...\n",
      "Retrieving geodata for Niger...\n",
      "Retrieving geodata for Nigeria...\n",
      "Retrieving geodata for Niue...\n",
      "Retrieving geodata for North Korea...\n",
      "Retrieving geodata for North Macedonia...\n",
      "Retrieving geodata for Northern Mariana Islands...\n",
      "Latitude not for Northern Mariana Islands.\n",
      "Longitude not for Northern Mariana Islands.\n",
      "Retrieving geodata for Norway...\n",
      "Retrieving geodata for Oman...\n",
      "Retrieving geodata for Pakistan...\n",
      "Retrieving geodata for Palau...\n",
      "Retrieving geodata for Palestine...\n",
      "Retrieving geodata for Panama...\n",
      "Retrieving geodata for Papua New Guinea...\n",
      "Retrieving geodata for Paraguay...\n",
      "Retrieving geodata for Peru...\n",
      "Retrieving geodata for Philippines...\n",
      "Retrieving geodata for Poland...\n",
      "Retrieving geodata for Portugal...\n",
      "Retrieving geodata for Puerto Rico...\n",
      "Latitude not for Puerto Rico.\n",
      "Longitude not for Puerto Rico.\n",
      "Retrieving geodata for Qatar...\n",
      "Retrieving geodata for Romania...\n",
      "Retrieving geodata for Russia...\n",
      "Retrieving geodata for Rwanda...\n",
      "Retrieving geodata for Saint Kitts and Nevis...\n",
      "Retrieving geodata for Saint Lucia...\n",
      "Retrieving geodata for Saint Vincent and the Grenadines...\n",
      "Retrieving geodata for Samoa...\n",
      "Retrieving geodata for San Marino...\n",
      "Retrieving geodata for Sao Tome and Principe...\n",
      "Retrieving geodata for Saudi Arabia...\n",
      "Retrieving geodata for Senegal...\n",
      "Retrieving geodata for Serbia...\n",
      "Retrieving geodata for Seychelles...\n",
      "Retrieving geodata for Sierra Leone...\n",
      "Retrieving geodata for Singapore...\n",
      "Retrieving geodata for Slovakia...\n",
      "Retrieving geodata for Slovenia...\n",
      "Retrieving geodata for Solomon Islands...\n",
      "Retrieving geodata for Somalia...\n",
      "Retrieving geodata for South Africa...\n",
      "Retrieving geodata for South Korea...\n",
      "Retrieving geodata for South Sudan...\n",
      "Retrieving geodata for Spain...\n",
      "Retrieving geodata for Sri Lanka...\n",
      "Retrieving geodata for Sudan...\n",
      "Retrieving geodata for Suriname...\n",
      "Retrieving geodata for Sweden...\n",
      "Retrieving geodata for Switzerland...\n",
      "Retrieving geodata for Syria...\n",
      "Retrieving geodata for Taiwan...\n",
      "Retrieving geodata for Tajikistan...\n",
      "Retrieving geodata for Tanzania...\n",
      "Retrieving geodata for Thailand...\n",
      "Retrieving geodata for Timor...\n",
      "Retrieving geodata for Togo...\n",
      "Retrieving geodata for Tokelau...\n",
      "Retrieving geodata for Tonga...\n",
      "Retrieving geodata for Trinidad and Tobago...\n",
      "Retrieving geodata for Tunisia...\n",
      "Retrieving geodata for Turkmenistan...\n",
      "Retrieving geodata for Tuvalu...\n",
      "Retrieving geodata for Uganda...\n",
      "Retrieving geodata for Ukraine...\n",
      "Retrieving geodata for United Arab Emirates...\n",
      "Retrieving geodata for United Kingdom...\n",
      "Retrieving geodata for United States...\n",
      "Retrieving geodata for Uruguay...\n",
      "Retrieving geodata for Uzbekistan...\n",
      "Retrieving geodata for Vanuatu...\n",
      "Retrieving geodata for Venezuela...\n",
      "Retrieving geodata for Vietnam...\n",
      "Retrieving geodata for Yemen...\n",
      "Retrieving geodata for Zambia...\n",
      "Retrieving geodata for Zimbabwe...\n",
      "\n",
      "*******************************\n",
      "Geodata retrieval complete!\n",
      "*******************************\n"
     ]
    }
   ],
   "source": [
    "# Perform geographic analysis. This will require coordinates for each country which can be queried through the geopy library.\n",
    "# This can take a while, so only run this cell if you don't already have the data saved locally.\n",
    "\n",
    "# Country code 'NA' exists so it should be removed from the na_values list\n",
    "na_values = [' ', '#N/A', '#N/A N/A', '#NA', '-1.#IND', '-1.#QNAN', '-NaN', '-nan', '1.#IND', '1.#QNAN', '<NA>', \n",
    "             'N/A', 'NULL', 'NaN', 'None', 'n/a', 'nan', 'null ']\n",
    "\n",
    "# Country codes are necessary to differentiate between 2 similarly named regions (i.e. Georgia the state and country)\n",
    "country_codes_df = pd.read_csv(Path('geodata', 'country_codes.csv'), na_values = na_values, keep_default_na = False)\n",
    "\n",
    "# Get the list of countries from the DALYs dataset\n",
    "geo_df = pd.DataFrame(dalys_df['Entity'].unique(), columns=['Entity'])\n",
    "\n",
    "# Merge countries with codes\n",
    "geo_df = geo_df.merge(country_codes_df, on='Entity')\n",
    "\n",
    "# Query for coordinates\n",
    "geolocator = Nominatim(user_agent='data_science_student_project')\n",
    "lat = []\n",
    "lon = []\n",
    "\n",
    "for country, code in zip(geo_df['Entity'], geo_df['Code']):\n",
    "    print(f'Retrieving geodata for {country}...')\n",
    "    try:\n",
    "        # Get the geodata\n",
    "        geodata = geolocator.geocode(country, country_codes=code)\n",
    "\n",
    "        # Pull out the latitude and longitude\n",
    "        try:\n",
    "            lat.append(geodata.latitude)\n",
    "        except AttributeError:\n",
    "            lat.append('N/A')\n",
    "            print(f'Latitude not for {country}.')\n",
    "        try:\n",
    "            lon.append(geodata.longitude)\n",
    "        except AttributeError:\n",
    "            lon.append('N/A')\n",
    "            print(f'Longitude not for {country}.')\n",
    "    except (TimeoutError, GeocoderUnavailable):\n",
    "        lat.append('N/A')\n",
    "        print(f'Latitude not for {country}.')\n",
    "        lon.append('N/A')\n",
    "        print(f'Longitude not for {country}.')\n",
    "\n",
    "print('''\n",
    "*******************************\n",
    "Geodata retrieval complete!\n",
    "*******************************''')"
   ]
  },
  {
   "cell_type": "code",
   "execution_count": 6,
   "metadata": {},
   "outputs": [],
   "source": [
    "# Save geodata for later use. It is easier to read the data from a local .csv than to perform all the geodata queries again.\n",
    "pd.DataFrame({\n",
    "    'Entity' : geo_df['Entity'],\n",
    "    'Latitude' : lat,\n",
    "    'Longitude' : lon\n",
    "}).to_csv(Path('geodata', 'coordinates.csv'), index=False)"
   ]
  },
  {
   "cell_type": "code",
   "execution_count": 7,
   "metadata": {},
   "outputs": [],
   "source": [
    "# Load geodata if not already loaded into the notebook\n",
    "geo_df = pd.read_csv(Path('geodata', 'coordinates.csv'))"
   ]
  },
  {
   "cell_type": "code",
   "execution_count": 8,
   "metadata": {},
   "outputs": [
    {
     "data": {
      "text/html": [
       "<div>\n",
       "<style scoped>\n",
       "    .dataframe tbody tr th:only-of-type {\n",
       "        vertical-align: middle;\n",
       "    }\n",
       "\n",
       "    .dataframe tbody tr th {\n",
       "        vertical-align: top;\n",
       "    }\n",
       "\n",
       "    .dataframe thead th {\n",
       "        text-align: right;\n",
       "    }\n",
       "</style>\n",
       "<table border=\"1\" class=\"dataframe\">\n",
       "  <thead>\n",
       "    <tr style=\"text-align: right;\">\n",
       "      <th></th>\n",
       "      <th>Entity</th>\n",
       "      <th>Latitude</th>\n",
       "      <th>Longitude</th>\n",
       "      <th>Code</th>\n",
       "      <th>Year</th>\n",
       "      <th>DALYs</th>\n",
       "    </tr>\n",
       "  </thead>\n",
       "  <tbody>\n",
       "    <tr>\n",
       "      <th>0</th>\n",
       "      <td>Afghanistan</td>\n",
       "      <td>33.768006</td>\n",
       "      <td>66.238514</td>\n",
       "      <td>AFG</td>\n",
       "      <td>1990</td>\n",
       "      <td>1.696670</td>\n",
       "    </tr>\n",
       "    <tr>\n",
       "      <th>1</th>\n",
       "      <td>Afghanistan</td>\n",
       "      <td>33.768006</td>\n",
       "      <td>66.238514</td>\n",
       "      <td>AFG</td>\n",
       "      <td>1991</td>\n",
       "      <td>1.734281</td>\n",
       "    </tr>\n",
       "    <tr>\n",
       "      <th>2</th>\n",
       "      <td>Afghanistan</td>\n",
       "      <td>33.768006</td>\n",
       "      <td>66.238514</td>\n",
       "      <td>AFG</td>\n",
       "      <td>1992</td>\n",
       "      <td>1.791189</td>\n",
       "    </tr>\n",
       "    <tr>\n",
       "      <th>3</th>\n",
       "      <td>Afghanistan</td>\n",
       "      <td>33.768006</td>\n",
       "      <td>66.238514</td>\n",
       "      <td>AFG</td>\n",
       "      <td>1993</td>\n",
       "      <td>1.776779</td>\n",
       "    </tr>\n",
       "    <tr>\n",
       "      <th>4</th>\n",
       "      <td>Afghanistan</td>\n",
       "      <td>33.768006</td>\n",
       "      <td>66.238514</td>\n",
       "      <td>AFG</td>\n",
       "      <td>1994</td>\n",
       "      <td>1.712986</td>\n",
       "    </tr>\n",
       "    <tr>\n",
       "      <th>...</th>\n",
       "      <td>...</td>\n",
       "      <td>...</td>\n",
       "      <td>...</td>\n",
       "      <td>...</td>\n",
       "      <td>...</td>\n",
       "      <td>...</td>\n",
       "    </tr>\n",
       "    <tr>\n",
       "      <th>6055</th>\n",
       "      <td>Zimbabwe</td>\n",
       "      <td>-18.455496</td>\n",
       "      <td>29.746841</td>\n",
       "      <td>ZWE</td>\n",
       "      <td>2015</td>\n",
       "      <td>2.193166</td>\n",
       "    </tr>\n",
       "    <tr>\n",
       "      <th>6056</th>\n",
       "      <td>Zimbabwe</td>\n",
       "      <td>-18.455496</td>\n",
       "      <td>29.746841</td>\n",
       "      <td>ZWE</td>\n",
       "      <td>2016</td>\n",
       "      <td>2.279813</td>\n",
       "    </tr>\n",
       "    <tr>\n",
       "      <th>6057</th>\n",
       "      <td>Zimbabwe</td>\n",
       "      <td>-18.455496</td>\n",
       "      <td>29.746841</td>\n",
       "      <td>ZWE</td>\n",
       "      <td>2017</td>\n",
       "      <td>2.364265</td>\n",
       "    </tr>\n",
       "    <tr>\n",
       "      <th>6058</th>\n",
       "      <td>Zimbabwe</td>\n",
       "      <td>-18.455496</td>\n",
       "      <td>29.746841</td>\n",
       "      <td>ZWE</td>\n",
       "      <td>2018</td>\n",
       "      <td>2.472949</td>\n",
       "    </tr>\n",
       "    <tr>\n",
       "      <th>6059</th>\n",
       "      <td>Zimbabwe</td>\n",
       "      <td>-18.455496</td>\n",
       "      <td>29.746841</td>\n",
       "      <td>ZWE</td>\n",
       "      <td>2019</td>\n",
       "      <td>2.525892</td>\n",
       "    </tr>\n",
       "  </tbody>\n",
       "</table>\n",
       "<p>5910 rows × 6 columns</p>\n",
       "</div>"
      ],
      "text/plain": [
       "           Entity   Latitude  Longitude Code  Year     DALYs\n",
       "0     Afghanistan  33.768006  66.238514  AFG  1990  1.696670\n",
       "1     Afghanistan  33.768006  66.238514  AFG  1991  1.734281\n",
       "2     Afghanistan  33.768006  66.238514  AFG  1992  1.791189\n",
       "3     Afghanistan  33.768006  66.238514  AFG  1993  1.776779\n",
       "4     Afghanistan  33.768006  66.238514  AFG  1994  1.712986\n",
       "...           ...        ...        ...  ...   ...       ...\n",
       "6055     Zimbabwe -18.455496  29.746841  ZWE  2015  2.193166\n",
       "6056     Zimbabwe -18.455496  29.746841  ZWE  2016  2.279813\n",
       "6057     Zimbabwe -18.455496  29.746841  ZWE  2017  2.364265\n",
       "6058     Zimbabwe -18.455496  29.746841  ZWE  2018  2.472949\n",
       "6059     Zimbabwe -18.455496  29.746841  ZWE  2019  2.525892\n",
       "\n",
       "[5910 rows x 6 columns]"
      ]
     },
     "execution_count": 8,
     "metadata": {},
     "output_type": "execute_result"
    }
   ],
   "source": [
    "# Merge geodata with DALYs data\n",
    "geo_df = geo_df.merge(dalys_df, on='Entity')\n",
    "geo_df = geo_df.dropna()\n",
    "geo_df"
   ]
  },
  {
   "cell_type": "code",
   "execution_count": 9,
   "metadata": {},
   "outputs": [
    {
     "name": "stderr",
     "output_type": "stream",
     "text": [
      "c:\\Users\\Matthew\\anaconda3\\envs\\dev\\lib\\site-packages\\paramiko\\transport.py:219: CryptographyDeprecationWarning: Blowfish has been deprecated\n",
      "  \"class\": algorithms.Blowfish,\n",
      "WARNING:bokeh.core.validation.check:W-1005 (FIXED_SIZING_MODE): 'fixed' sizing mode requires width and height to be set: figure(id='p1026', ...)\n"
     ]
    },
    {
     "data": {},
     "metadata": {},
     "output_type": "display_data"
    },
    {
     "data": {
      "application/vnd.holoviews_exec.v0+json": "",
      "text/html": [
       "<div id='p1092'>\n",
       "  <div id=\"ca8bf309-7693-4dc8-a0ca-0dfd629eb213\" data-root-id=\"p1092\" style=\"display: contents;\"></div>\n",
       "</div>\n",
       "<script type=\"application/javascript\">(function(root) {\n",
       "  var docs_json = {\"e7575e49-9429-47e6-9a02-2be08fde3c7c\":{\"version\":\"3.2.1\",\"title\":\"Bokeh Application\",\"roots\":[{\"type\":\"object\",\"name\":\"Row\",\"id\":\"p1092\",\"attributes\":{\"name\":\"Row01662\",\"tags\":[\"embedded\"],\"stylesheets\":[\"\\n:host(.pn-loading.pn-arc):before, .pn-loading.pn-arc:before {\\n  background-image: url(\\\"data:image/svg+xml;base64,PHN2ZyB4bWxucz0iaHR0cDovL3d3dy53My5vcmcvMjAwMC9zdmciIHN0eWxlPSJtYXJnaW46IGF1dG87IGJhY2tncm91bmQ6IG5vbmU7IGRpc3BsYXk6IGJsb2NrOyBzaGFwZS1yZW5kZXJpbmc6IGF1dG87IiB2aWV3Qm94PSIwIDAgMTAwIDEwMCIgcHJlc2VydmVBc3BlY3RSYXRpbz0ieE1pZFlNaWQiPiAgPGNpcmNsZSBjeD0iNTAiIGN5PSI1MCIgZmlsbD0ibm9uZSIgc3Ryb2tlPSIjYzNjM2MzIiBzdHJva2Utd2lkdGg9IjEwIiByPSIzNSIgc3Ryb2tlLWRhc2hhcnJheT0iMTY0LjkzMzYxNDMxMzQ2NDE1IDU2Ljk3Nzg3MTQzNzgyMTM4Ij4gICAgPGFuaW1hdGVUcmFuc2Zvcm0gYXR0cmlidXRlTmFtZT0idHJhbnNmb3JtIiB0eXBlPSJyb3RhdGUiIHJlcGVhdENvdW50PSJpbmRlZmluaXRlIiBkdXI9IjFzIiB2YWx1ZXM9IjAgNTAgNTA7MzYwIDUwIDUwIiBrZXlUaW1lcz0iMDsxIj48L2FuaW1hdGVUcmFuc2Zvcm0+ICA8L2NpcmNsZT48L3N2Zz4=\\\");\\n  background-size: auto calc(min(50%, 400px));\\n}\",{\"type\":\"object\",\"name\":\"ImportedStyleSheet\",\"id\":\"p1095\",\"attributes\":{\"url\":\"https://cdn.holoviz.org/panel/1.2.3/dist/css/loading.css\"}},{\"type\":\"object\",\"name\":\"ImportedStyleSheet\",\"id\":\"p1172\",\"attributes\":{\"url\":\"https://cdn.holoviz.org/panel/1.2.3/dist/css/listpanel.css\"}},{\"type\":\"object\",\"name\":\"ImportedStyleSheet\",\"id\":\"p1093\",\"attributes\":{\"url\":\"https://cdn.holoviz.org/panel/1.2.3/dist/bundled/theme/default.css\"}},{\"type\":\"object\",\"name\":\"ImportedStyleSheet\",\"id\":\"p1094\",\"attributes\":{\"url\":\"https://cdn.holoviz.org/panel/1.2.3/dist/bundled/theme/native.css\"}}],\"margin\":0,\"sizing_mode\":\"stretch_width\",\"align\":\"start\",\"children\":[{\"type\":\"object\",\"name\":\"Spacer\",\"id\":\"p1096\",\"attributes\":{\"name\":\"HSpacer01671\",\"stylesheets\":[\"\\n:host(.pn-loading.pn-arc):before, .pn-loading.pn-arc:before {\\n  background-image: url(\\\"data:image/svg+xml;base64,PHN2ZyB4bWxucz0iaHR0cDovL3d3dy53My5vcmcvMjAwMC9zdmciIHN0eWxlPSJtYXJnaW46IGF1dG87IGJhY2tncm91bmQ6IG5vbmU7IGRpc3BsYXk6IGJsb2NrOyBzaGFwZS1yZW5kZXJpbmc6IGF1dG87IiB2aWV3Qm94PSIwIDAgMTAwIDEwMCIgcHJlc2VydmVBc3BlY3RSYXRpbz0ieE1pZFlNaWQiPiAgPGNpcmNsZSBjeD0iNTAiIGN5PSI1MCIgZmlsbD0ibm9uZSIgc3Ryb2tlPSIjYzNjM2MzIiBzdHJva2Utd2lkdGg9IjEwIiByPSIzNSIgc3Ryb2tlLWRhc2hhcnJheT0iMTY0LjkzMzYxNDMxMzQ2NDE1IDU2Ljk3Nzg3MTQzNzgyMTM4Ij4gICAgPGFuaW1hdGVUcmFuc2Zvcm0gYXR0cmlidXRlTmFtZT0idHJhbnNmb3JtIiB0eXBlPSJyb3RhdGUiIHJlcGVhdENvdW50PSJpbmRlZmluaXRlIiBkdXI9IjFzIiB2YWx1ZXM9IjAgNTAgNTA7MzYwIDUwIDUwIiBrZXlUaW1lcz0iMDsxIj48L2FuaW1hdGVUcmFuc2Zvcm0+ICA8L2NpcmNsZT48L3N2Zz4=\\\");\\n  background-size: auto calc(min(50%, 400px));\\n}\",{\"id\":\"p1095\"},{\"id\":\"p1093\"},{\"id\":\"p1094\"}],\"margin\":0,\"sizing_mode\":\"stretch_width\",\"align\":\"start\"}},{\"type\":\"object\",\"name\":\"Figure\",\"id\":\"p1113\",\"attributes\":{\"width\":null,\"height\":null,\"margin\":[5,10],\"sizing_mode\":\"fixed\",\"align\":\"start\",\"x_range\":{\"type\":\"object\",\"name\":\"Range1d\",\"id\":\"p1103\",\"attributes\":{\"tags\":[[[\"Longitude\",\"Longitude\",null]],[]],\"start\":-22321131.53083035,\"end\":22761472.454346623,\"reset_start\":-22321131.53083035,\"reset_end\":22761472.454346623,\"min_interval\":5}},\"y_range\":{\"type\":\"object\",\"name\":\"Range1d\",\"id\":\"p1104\",\"attributes\":{\"tags\":[[[\"Latitude\",\"Latitude\",null]],{\"type\":\"map\",\"entries\":[[\"invert_yaxis\",false],[\"autorange\",false]]}],\"start\":-12800299.531695077,\"end\":19401560.457717046,\"reset_start\":-12800299.531695077,\"reset_end\":19401560.457717046,\"min_interval\":5}},\"x_scale\":{\"type\":\"object\",\"name\":\"LinearScale\",\"id\":\"p1123\"},\"y_scale\":{\"type\":\"object\",\"name\":\"LinearScale\",\"id\":\"p1124\"},\"title\":{\"type\":\"object\",\"name\":\"Title\",\"id\":\"p1116\",\"attributes\":{\"text\":\"DALYs in 2019 by Country (indicated by dot size)\",\"text_color\":\"black\",\"text_font_size\":\"12pt\"}},\"renderers\":[{\"type\":\"object\",\"name\":\"TileRenderer\",\"id\":\"p1148\",\"attributes\":{\"level\":\"glyph\",\"tile_source\":{\"type\":\"object\",\"name\":\"WMTSTileSource\",\"id\":\"p1144\",\"attributes\":{\"url\":\"https://c.tile.openstreetmap.org/{Z}/{X}/{Y}.png\",\"attribution\":\"&copy; <a href=\\\"https://www.openstreetmap.org/copyright\\\">OpenStreetMap</a> contributors\"}}}},{\"type\":\"object\",\"name\":\"GlyphRenderer\",\"id\":\"p1162\",\"attributes\":{\"name\":\"color\",\"data_source\":{\"type\":\"object\",\"name\":\"ColumnDataSource\",\"id\":\"p1151\",\"attributes\":{\"selected\":{\"type\":\"object\",\"name\":\"Selection\",\"id\":\"p1152\",\"attributes\":{\"indices\":[],\"line_indices\":[]}},\"selection_policy\":{\"type\":\"object\",\"name\":\"UnionRenderers\",\"id\":\"p1153\"},\"data\":{\"type\":\"map\",\"entries\":[[\"Longitude\",{\"type\":\"ndarray\",\"array\":{\"type\":\"bytes\",\"data\":\"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\"},\"shape\":[197],\"dtype\":\"float64\",\"order\":\"little\"}],[\"Latitude\",{\"type\":\"ndarray\",\"array\":{\"type\":\"bytes\",\"data\":\"aSf+q/5/TkHHTs5y3h5TQVmGBpyoyUhBeQxg33T/U0HbaUgDQ1I0wcXU/RfmtD1B4l75gabDT8HEs3s4vf1SQQo7VcgGu0XB4dIfcgQKV0FVp0pZ68dSQeUnA1lwukVB+jv+K13oRkHwt7tLeHNFQTO+bGcOiTZBEsFBO3/wWkG/zOAjNQRZQQHye2AhAD1B/gWny/5CMEEMbDdtpQFNQRXl+p7zWkhBnvtnABZpPcFgX5JqnAdVQQv49tNoPETBv62ZcuylMcFI+E7rrAQeQUJB/9hMCVRBLfRrLSiqNEGQQ814aEsXwTQvWTt1ejVB0dkL8plfH0FY1WIaUHtgQXZdoii5iTtBF1qbVlfzJ0FQktXR/No6QUbg8ngbeUzB1NSlmZnET0Gzrz6pWuEbQbg6Arag4zTBRqjGjkS+88BEjaAV0FZBwbKKfFMhRjBBNtt6Jyw7K0GE2m9PMapVQUT4TYPDF0RBaCyn+auuT0FNhziN/mtYQUpB544mRBTBSPX0am6VXEEKxlyGRzY0Qfdxd6PIfzpB4K8cdUOHQEED6F4CHjUCwWUvPBsaH0dB2o/3YbWrN0Edjh66iewFQXqQKOcYcztBpT7kZ5QAX0EVolyC+WlHwbx7NDyUCydBKjkcFeBPP8HVzdJXJ3lhQTOsNn7Qa1ZBFJT6QsR1+MDvrURHDxg3QVTwd2N3gVNBdrhVnXReWUEDxQ7yjl4rQQcVJwlcAlJBt2xQ5NtKZkGNZytDKsU0QXnjiPFozjpByLS/CBpSMkGu4tXajTY0QVYhK4nGdyBBy099hBCRQEHrz4VxUDo6QdyQCBTUx1ZBJAimx41RYkEN2uWlwntDQSksd/Dd4BDBEjreR9JcTUHzjSSzztBNQTtIt2kFi1pBQBQDZ66HS0H/Zlxj4g1UQdfuZdDTaz9BUH9DhFq1UEEicWv2iOFLQUf9t9YyXFdB/P8o/8CYA0FSXMYowL7iQP346FicH0pB3+XsWFz3U0G7xXIHeVtBQeno9JKAel1B5ktpXfAIT0GS812eoVdKwXY8IDASkSNBbYtbiXupR0GkdQQg81dcQV4qHIG2VVhBzLiBmptfQMED/iyxEb42wXsLNGJCFB9BV1RHUptLGUFkkw0GPzE8Qe31UufdWFBBed1fOvQOLEG0D8rSVpJBQSZeoJxql0HBprty7XjUQEH8Agj71NhWQccKZOb8sFRBHe0apPaOVkHXmZv3hUFUQdYTI2w3HElB3wOJvGu2QMHf53pi2549QYJ/UIvfS0TBBkteGaeM7MDXLi1FW+RIQc7W+FPcG1pBG1kLgCxnU8GcNrAJupc1QcNwT49inj5BF1Q1wipiMEG6Sn4rMn1AwQjCeswRxVJBkqVFYS14U0FzyOI/Hx1iQQFiSwGlP0JBdnKGxBEOS0GQNcadWUwiQQ3QKwbLLExBAVSm4fMvLUFA6hJgUVUjwYm1RzeHX0TBL9yoPhFlJ8FONptuuNY1QQibbd73FlpBx5RIcBJgUkED7/L42UBGQSYSMvmOClZBT1jqQHorYkFBFl5W4bMKwT/mmrU1wT1BcS+yeOi2N0FfX+5JdBs2QWM1W2f8nTfBgHVeBCvRVEGJe727LWb6QOxKvwvVhkZB/YYtD2jaOEE6+ji+Bd1UQYD19tkIrh/BIDdzsLx2LUGoPW60dHECQT1NR3sDxVdBxF1x0akfVkG+1EeBPLAtwTDs+xk9hyxBfVTNe4OTScE0fS2c9b1QQesU89b70SpBTV3lkrkwUkH1CrILBL4pQQdh8OaKCzlBFmH+eIYpHEE8qPini8RfQayjmgXCilZBFmFtX0llT0FeJ/DnTKJEQSmnSGshz1FBCYBIOb02JsHMWkgaYVc2QZuip7B70i3BSoEJ7OfxLUFAc/ZIL0cvwaoiISkaREHBIuc1+8BcMkEGLz+q59NQQR+QR0vMN1JBPAaSMyp3LcG9BBvFxdYEQTBsox7sQFhBLPyfNs8BRUEKhL0KHt1bQUjqVwpBcVJBd87yyMaXTcFf7e1qnE1TQRrls268dzzB7xq9IdRFK0HyU5PMh2g7Qa2L5ujcJjxBT8kYHBruOME/yyEgtec/wQ==\"},\"shape\":[197],\"dtype\":\"float64\",\"order\":\"little\"}],[\"Entity\",{\"type\":\"ndarray\",\"array\":[\"Afghanistan\",\"Albania\",\"Algeria\",\"Andorra\",\"Angola\",\"Antigua and Barbuda\",\"Argentina\",\"Armenia\",\"Australia\",\"Austria\",\"Azerbaijan\",\"Bahamas\",\"Bahrain\",\"Bangladesh\",\"Barbados\",\"Belarus\",\"Belgium\",\"Belize\",\"Benin\",\"Bermuda\",\"Bhutan\",\"Bolivia\",\"Bosnia and Herzegovina\",\"Botswana\",\"Brazil\",\"Brunei\",\"Bulgaria\",\"Burkina Faso\",\"Burundi\",\"Cambodia\",\"Cameroon\",\"Canada\",\"Cape Verde\",\"Central African Republic\",\"Chad\",\"Chile\",\"China\",\"Colombia\",\"Comoros\",\"Congo\",\"Cook Islands\",\"Costa Rica\",\"Cote d'Ivoire\",\"Croatia\",\"Cuba\",\"Cyprus\",\"Czechia\",\"Democratic Republic of Congo\",\"Denmark\",\"Djibouti\",\"Dominica\",\"Dominican Republic\",\"Ecuador\",\"Egypt\",\"El Salvador\",\"Equatorial Guinea\",\"Eritrea\",\"Estonia\",\"Eswatini\",\"Ethiopia\",\"Fiji\",\"Finland\",\"France\",\"Gabon\",\"Gambia\",\"Georgia\",\"Germany\",\"Ghana\",\"Greece\",\"Greenland\",\"Grenada\",\"Guatemala\",\"Guinea\",\"Guinea-Bissau\",\"Guyana\",\"Haiti\",\"Honduras\",\"Hungary\",\"Iceland\",\"India\",\"Indonesia\",\"Iran\",\"Iraq\",\"Ireland\",\"Israel\",\"Italy\",\"Jamaica\",\"Japan\",\"Jordan\",\"Kazakhstan\",\"Kenya\",\"Kiribati\",\"Kuwait\",\"Kyrgyzstan\",\"Laos\",\"Latvia\",\"Lebanon\",\"Lesotho\",\"Liberia\",\"Libya\",\"Lithuania\",\"Luxembourg\",\"Madagascar\",\"Malawi\",\"Malaysia\",\"Maldives\",\"Mali\",\"Malta\",\"Marshall Islands\",\"Mauritania\",\"Mauritius\",\"Mexico\",\"Moldova\",\"Monaco\",\"Mongolia\",\"Montenegro\",\"Morocco\",\"Mozambique\",\"Myanmar\",\"Namibia\",\"Nauru\",\"Nepal\",\"Netherlands\",\"New Zealand\",\"Nicaragua\",\"Niger\",\"Nigeria\",\"Niue\",\"North Korea\",\"North Macedonia\",\"Norway\",\"Oman\",\"Pakistan\",\"Palau\",\"Palestine\",\"Panama\",\"Papua New Guinea\",\"Paraguay\",\"Peru\",\"Philippines\",\"Poland\",\"Portugal\",\"Qatar\",\"Romania\",\"Russia\",\"Rwanda\",\"Saint Kitts and Nevis\",\"Saint Lucia\",\"Saint Vincent and the Grenadines\",\"Samoa\",\"San Marino\",\"Sao Tome and Principe\",\"Saudi Arabia\",\"Senegal\",\"Serbia\",\"Seychelles\",\"Sierra Leone\",\"Singapore\",\"Slovakia\",\"Slovenia\",\"Solomon Islands\",\"Somalia\",\"South Africa\",\"South Korea\",\"South Sudan\",\"Spain\",\"Sri Lanka\",\"Sudan\",\"Suriname\",\"Sweden\",\"Switzerland\",\"Syria\",\"Taiwan\",\"Tajikistan\",\"Tanzania\",\"Thailand\",\"Timor\",\"Togo\",\"Tokelau\",\"Tonga\",\"Trinidad and Tobago\",\"Tunisia\",\"Turkmenistan\",\"Tuvalu\",\"Uganda\",\"Ukraine\",\"United Arab Emirates\",\"United Kingdom\",\"United States\",\"Uruguay\",\"Uzbekistan\",\"Vanuatu\",\"Venezuela\",\"Vietnam\",\"Yemen\",\"Zambia\",\"Zimbabwe\"],\"shape\":[197],\"dtype\":\"object\",\"order\":\"little\"}],[\"DALYs\",{\"type\":\"ndarray\",\"array\":{\"type\":\"bytes\",\"data\":\"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\"},\"shape\":[197],\"dtype\":\"float64\",\"order\":\"little\"}],[\"color\",{\"type\":\"ndarray\",\"array\":[\"Afghanistan\",\"Albania\",\"Algeria\",\"Andorra\",\"Angola\",\"Antigua and Barbuda\",\"Argentina\",\"Armenia\",\"Australia\",\"Austria\",\"Azerbaijan\",\"Bahamas\",\"Bahrain\",\"Bangladesh\",\"Barbados\",\"Belarus\",\"Belgium\",\"Belize\",\"Benin\",\"Bermuda\",\"Bhutan\",\"Bolivia\",\"Bosnia and Herzegovina\",\"Botswana\",\"Brazil\",\"Brunei\",\"Bulgaria\",\"Burkina Faso\",\"Burundi\",\"Cambodia\",\"Cameroon\",\"Canada\",\"Cape Verde\",\"Central African Republic\",\"Chad\",\"Chile\",\"China\",\"Colombia\",\"Comoros\",\"Congo\",\"Cook Islands\",\"Costa Rica\",\"Cote d'Ivoire\",\"Croatia\",\"Cuba\",\"Cyprus\",\"Czechia\",\"Democratic Republic of Congo\",\"Denmark\",\"Djibouti\",\"Dominica\",\"Dominican Republic\",\"Ecuador\",\"Egypt\",\"El Salvador\",\"Equatorial Guinea\",\"Eritrea\",\"Estonia\",\"Eswatini\",\"Ethiopia\",\"Fiji\",\"Finland\",\"France\",\"Gabon\",\"Gambia\",\"Georgia\",\"Germany\",\"Ghana\",\"Greece\",\"Greenland\",\"Grenada\",\"Guatemala\",\"Guinea\",\"Guinea-Bissau\",\"Guyana\",\"Haiti\",\"Honduras\",\"Hungary\",\"Iceland\",\"India\",\"Indonesia\",\"Iran\",\"Iraq\",\"Ireland\",\"Israel\",\"Italy\",\"Jamaica\",\"Japan\",\"Jordan\",\"Kazakhstan\",\"Kenya\",\"Kiribati\",\"Kuwait\",\"Kyrgyzstan\",\"Laos\",\"Latvia\",\"Lebanon\",\"Lesotho\",\"Liberia\",\"Libya\",\"Lithuania\",\"Luxembourg\",\"Madagascar\",\"Malawi\",\"Malaysia\",\"Maldives\",\"Mali\",\"Malta\",\"Marshall Islands\",\"Mauritania\",\"Mauritius\",\"Mexico\",\"Moldova\",\"Monaco\",\"Mongolia\",\"Montenegro\",\"Morocco\",\"Mozambique\",\"Myanmar\",\"Namibia\",\"Nauru\",\"Nepal\",\"Netherlands\",\"New Zealand\",\"Nicaragua\",\"Niger\",\"Nigeria\",\"Niue\",\"North Korea\",\"North Macedonia\",\"Norway\",\"Oman\",\"Pakistan\",\"Palau\",\"Palestine\",\"Panama\",\"Papua New Guinea\",\"Paraguay\",\"Peru\",\"Philippines\",\"Poland\",\"Portugal\",\"Qatar\",\"Romania\",\"Russia\",\"Rwanda\",\"Saint Kitts and Nevis\",\"Saint Lucia\",\"Saint Vincent and the Grenadines\",\"Samoa\",\"San Marino\",\"Sao Tome and Principe\",\"Saudi Arabia\",\"Senegal\",\"Serbia\",\"Seychelles\",\"Sierra Leone\",\"Singapore\",\"Slovakia\",\"Slovenia\",\"Solomon Islands\",\"Somalia\",\"South Africa\",\"South Korea\",\"South Sudan\",\"Spain\",\"Sri Lanka\",\"Sudan\",\"Suriname\",\"Sweden\",\"Switzerland\",\"Syria\",\"Taiwan\",\"Tajikistan\",\"Tanzania\",\"Thailand\",\"Timor\",\"Togo\",\"Tokelau\",\"Tonga\",\"Trinidad and Tobago\",\"Tunisia\",\"Turkmenistan\",\"Tuvalu\",\"Uganda\",\"Ukraine\",\"United Arab Emirates\",\"United Kingdom\",\"United States\",\"Uruguay\",\"Uzbekistan\",\"Vanuatu\",\"Venezuela\",\"Vietnam\",\"Yemen\",\"Zambia\",\"Zimbabwe\"],\"shape\":[197],\"dtype\":\"object\",\"order\":\"little\"}],[\"size\",{\"type\":\"ndarray\",\"array\":{\"type\":\"bytes\",\"data\":\"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\"},\"shape\":[197],\"dtype\":\"float64\",\"order\":\"little\"}]]}}},\"view\":{\"type\":\"object\",\"name\":\"CDSView\",\"id\":\"p1163\",\"attributes\":{\"filter\":{\"type\":\"object\",\"name\":\"AllIndices\",\"id\":\"p1164\"}}},\"glyph\":{\"type\":\"object\",\"name\":\"Scatter\",\"id\":\"p1157\",\"attributes\":{\"tags\":[\"apply_ranges\"],\"x\":{\"type\":\"field\",\"field\":\"Longitude\"},\"y\":{\"type\":\"field\",\"field\":\"Latitude\"},\"size\":{\"type\":\"field\",\"field\":\"size\"},\"line_color\":{\"type\":\"field\",\"field\":\"color\",\"transform\":{\"type\":\"object\",\"name\":\"CategoricalColorMapper\",\"id\":\"p1150\",\"attributes\":{\"palette\":[\"#1f77b3\",\"#ff7e0e\",\"#2ba02b\",\"#d62628\",\"#9367bc\",\"#8c564b\",\"#e277c1\",\"#7e7e7e\",\"#bcbc21\",\"#16bdcf\",\"#3a0182\",\"#004201\",\"#0fffa8\",\"#5d003f\",\"#bcbcff\",\"#d8afa1\",\"#b80080\",\"#004d52\",\"#6b6400\",\"#7c0100\",\"#6026ff\",\"#ffff9a\",\"#564964\",\"#8cb893\",\"#93fbff\",\"#018267\",\"#90ff00\",\"#8200a0\",\"#ac8944\",\"#5b3400\",\"#ffbff2\",\"#ff6e75\",\"#798cff\",\"#dd00ff\",\"#505646\",\"#004489\",\"#ffbf60\",\"#ff018c\",\"#bdc8cf\",\"#af97b5\",\"#b65600\",\"#017000\",\"#cd87ff\",\"#1cd646\",\"#bfebc3\",\"#7997b5\",\"#a56089\",\"#6e8956\",\"#bc7c75\",\"#8a2844\",\"#00acff\",\"#8ed4ff\",\"#4b6d77\",\"#00d4b1\",\"#9300f2\",\"#8a9500\",\"#5d5b9e\",\"#fddfba\",\"#00939e\",\"#ffdb00\",\"#00aa79\",\"#520067\",\"#000091\",\"#0a5d3d\",\"#a5e275\",\"#623b41\",\"#c6c689\",\"#ff9eb5\",\"#cd4f6b\",\"#ff07d6\",\"#8a3a05\",\"#7e3d70\",\"#ff4901\",\"#602ba5\",\"#1c00ff\",\"#e6dfff\",\"#aa3baf\",\"#d89c00\",\"#a3a39e\",\"#3f69ff\",\"#46490c\",\"#7b6985\",\"#6b978c\",\"#ff9a75\",\"#835bff\",\"#7c6b46\",\"#80b654\",\"#bc0049\",\"#fd93ff\",\"#5d0018\",\"#89d1d1\",\"#9c8cd3\",\"#da6d42\",\"#8a5700\",\"#3b5069\",\"#4b6b3b\",\"#edcfd8\",\"#cfedff\",\"#aa1500\",\"#dfff4f\",\"#ff2a56\",\"#d1499e\",\"#707cb8\",\"#598000\",\"#00e4fd\",\"#774b95\",\"#67d48c\",\"#3d3a72\",\"#ac413f\",\"#d6a166\",\"#c169cd\",\"#69595d\",\"#87aced\",\"#a0a569\",\"#d1aae6\",\"#870062\",\"#00fddb\",\"#672818\",\"#b342ff\",\"#0e59c4\",\"#168742\",\"#90d300\",\"#cd7900\",\"#f959ff\",\"#5b7466\",\"#8eaeb3\",\"#9c7c8c\",\"#4600c6\",\"#6b4d2d\",\"#a56d46\",\"#9e8972\",\"#a8afca\",\"#cd8ca7\",\"#00fd64\",\"#917900\",\"#ff62a1\",\"#f4ffd8\",\"#018cf0\",\"#13aca0\",\"#5b2d59\",\"#89859e\",\"#cfccba\",\"#d4afc4\",\"#dbdd6d\",\"#cffff4\",\"#006485\",\"#006962\",\"#a84167\",\"#2d97c4\",\"#a874ff\",\"#26ba5d\",\"#57b600\",\"#caffa7\",\"#a379aa\",\"#ffbc93\",\"#89e2c1\",\"#0fc8ff\",\"#d400c4\",\"#626d89\",\"#69858e\",\"#4b4d52\",\"#aa6067\",\"#79b5d4\",\"#2b5916\",\"#9a0024\",\"#bdd1f2\",\"#896e67\",\"#69a56b\",\"#855467\",\"#aecdba\",\"#87997e\",\"#cadb00\",\"#9a0390\",\"#ebbc1a\",\"#eb9cd1\",\"#70006e\",\"#b1a131\",\"#ca6b93\",\"#4146a3\",\"#e48c89\",\"#d44400\",\"#c68aca\",\"#b69597\",\"#d41f75\",\"#724bcc\",\"#674d00\",\"#672138\",\"#38564f\",\"#6ebaaa\",\"#853a31\",\"#a5d397\",\"#b8af8e\",\"#d8e4df\",\"#aa00df\",\"#cac1db\",\"#ffdf8c\",\"#e2524d\"],\"factors\":[\"Afghanistan\",\"Albania\",\"Algeria\",\"Andorra\",\"Angola\",\"Antigua and Barbuda\",\"Argentina\",\"Armenia\",\"Australia\",\"Austria\",\"Azerbaijan\",\"Bahamas\",\"Bahrain\",\"Bangladesh\",\"Barbados\",\"Belarus\",\"Belgium\",\"Belize\",\"Benin\",\"Bermuda\",\"Bhutan\",\"Bolivia\",\"Bosnia and Herzegovina\",\"Botswana\",\"Brazil\",\"Brunei\",\"Bulgaria\",\"Burkina Faso\",\"Burundi\",\"Cambodia\",\"Cameroon\",\"Canada\",\"Cape Verde\",\"Central African Republic\",\"Chad\",\"Chile\",\"China\",\"Colombia\",\"Comoros\",\"Congo\",\"Cook Islands\",\"Costa Rica\",\"Cote d'Ivoire\",\"Croatia\",\"Cuba\",\"Cyprus\",\"Czechia\",\"Democratic Republic of Congo\",\"Denmark\",\"Djibouti\",\"Dominica\",\"Dominican Republic\",\"Ecuador\",\"Egypt\",\"El Salvador\",\"Equatorial Guinea\",\"Eritrea\",\"Estonia\",\"Eswatini\",\"Ethiopia\",\"Fiji\",\"Finland\",\"France\",\"Gabon\",\"Gambia\",\"Georgia\",\"Germany\",\"Ghana\",\"Greece\",\"Greenland\",\"Grenada\",\"Guatemala\",\"Guinea\",\"Guinea-Bissau\",\"Guyana\",\"Haiti\",\"Honduras\",\"Hungary\",\"Iceland\",\"India\",\"Indonesia\",\"Iran\",\"Iraq\",\"Ireland\",\"Israel\",\"Italy\",\"Jamaica\",\"Japan\",\"Jordan\",\"Kazakhstan\",\"Kenya\",\"Kiribati\",\"Kuwait\",\"Kyrgyzstan\",\"Laos\",\"Latvia\",\"Lebanon\",\"Lesotho\",\"Liberia\",\"Libya\",\"Lithuania\",\"Luxembourg\",\"Madagascar\",\"Malawi\",\"Malaysia\",\"Maldives\",\"Mali\",\"Malta\",\"Marshall Islands\",\"Mauritania\",\"Mauritius\",\"Mexico\",\"Moldova\",\"Monaco\",\"Mongolia\",\"Montenegro\",\"Morocco\",\"Mozambique\",\"Myanmar\",\"Namibia\",\"Nauru\",\"Nepal\",\"Netherlands\",\"New Zealand\",\"Nicaragua\",\"Niger\",\"Nigeria\",\"Niue\",\"North Korea\",\"North Macedonia\",\"Norway\",\"Oman\",\"Pakistan\",\"Palau\",\"Palestine\",\"Panama\",\"Papua New Guinea\",\"Paraguay\",\"Peru\",\"Philippines\",\"Poland\",\"Portugal\",\"Qatar\",\"Romania\",\"Russia\",\"Rwanda\",\"Saint Kitts and Nevis\",\"Saint Lucia\",\"Saint Vincent and the Grenadines\",\"Samoa\",\"San Marino\",\"Sao Tome and Principe\",\"Saudi Arabia\",\"Senegal\",\"Serbia\",\"Seychelles\",\"Sierra Leone\",\"Singapore\",\"Slovakia\",\"Slovenia\",\"Solomon Islands\",\"Somalia\",\"South Africa\",\"South Korea\",\"South Sudan\",\"Spain\",\"Sri Lanka\",\"Sudan\",\"Suriname\",\"Sweden\",\"Switzerland\",\"Syria\",\"Taiwan\",\"Tajikistan\",\"Tanzania\",\"Thailand\",\"Timor\",\"Togo\",\"Tokelau\",\"Tonga\",\"Trinidad and Tobago\",\"Tunisia\",\"Turkmenistan\",\"Tuvalu\",\"Uganda\",\"Ukraine\",\"United Arab Emirates\",\"United Kingdom\",\"United States\",\"Uruguay\",\"Uzbekistan\",\"Vanuatu\",\"Venezuela\",\"Vietnam\",\"Yemen\",\"Zambia\",\"Zimbabwe\"]}}},\"line_alpha\":{\"type\":\"value\",\"value\":0.5},\"fill_color\":{\"type\":\"field\",\"field\":\"color\",\"transform\":{\"id\":\"p1150\"}},\"fill_alpha\":{\"type\":\"value\",\"value\":0.5},\"hatch_color\":{\"type\":\"field\",\"field\":\"color\",\"transform\":{\"id\":\"p1150\"}},\"hatch_alpha\":{\"type\":\"value\",\"value\":0.5}}},\"selection_glyph\":{\"type\":\"object\",\"name\":\"Scatter\",\"id\":\"p1159\",\"attributes\":{\"tags\":[\"apply_ranges\"],\"x\":{\"type\":\"field\",\"field\":\"Longitude\"},\"y\":{\"type\":\"field\",\"field\":\"Latitude\"},\"size\":{\"type\":\"field\",\"field\":\"size\"},\"line_color\":{\"type\":\"field\",\"field\":\"color\",\"transform\":{\"id\":\"p1150\"}},\"line_alpha\":{\"type\":\"value\",\"value\":0.5},\"fill_color\":{\"type\":\"field\",\"field\":\"color\",\"transform\":{\"id\":\"p1150\"}},\"fill_alpha\":{\"type\":\"value\",\"value\":0.5},\"hatch_color\":{\"type\":\"field\",\"field\":\"color\",\"transform\":{\"id\":\"p1150\"}},\"hatch_alpha\":{\"type\":\"value\",\"value\":0.5}}},\"nonselection_glyph\":{\"type\":\"object\",\"name\":\"Scatter\",\"id\":\"p1158\",\"attributes\":{\"tags\":[\"apply_ranges\"],\"x\":{\"type\":\"field\",\"field\":\"Longitude\"},\"y\":{\"type\":\"field\",\"field\":\"Latitude\"},\"size\":{\"type\":\"field\",\"field\":\"size\"},\"line_color\":{\"type\":\"field\",\"field\":\"color\",\"transform\":{\"id\":\"p1150\"}},\"line_alpha\":{\"type\":\"value\",\"value\":0.5},\"fill_color\":{\"type\":\"field\",\"field\":\"color\",\"transform\":{\"id\":\"p1150\"}},\"fill_alpha\":{\"type\":\"value\",\"value\":0.5},\"hatch_color\":{\"type\":\"field\",\"field\":\"color\",\"transform\":{\"id\":\"p1150\"}},\"hatch_alpha\":{\"type\":\"value\",\"value\":0.1}}},\"hover_glyph\":{\"type\":\"object\",\"name\":\"Scatter\",\"id\":\"p1160\",\"attributes\":{\"tags\":[\"apply_ranges\"],\"x\":{\"type\":\"field\",\"field\":\"Longitude\"},\"y\":{\"type\":\"field\",\"field\":\"Latitude\"},\"size\":{\"type\":\"field\",\"field\":\"size\"},\"line_color\":{\"type\":\"field\",\"field\":\"color\",\"transform\":{\"id\":\"p1150\"}},\"line_alpha\":{\"type\":\"value\",\"value\":0.5},\"fill_color\":{\"type\":\"field\",\"field\":\"color\",\"transform\":{\"id\":\"p1150\"}},\"fill_alpha\":{\"type\":\"value\",\"value\":0.5},\"hatch_color\":{\"type\":\"field\",\"field\":\"color\",\"transform\":{\"id\":\"p1150\"}},\"hatch_alpha\":{\"type\":\"value\",\"value\":0.5}}},\"muted_glyph\":{\"type\":\"object\",\"name\":\"Scatter\",\"id\":\"p1161\",\"attributes\":{\"tags\":[\"apply_ranges\"],\"x\":{\"type\":\"field\",\"field\":\"Longitude\"},\"y\":{\"type\":\"field\",\"field\":\"Latitude\"},\"size\":{\"type\":\"field\",\"field\":\"size\"},\"line_color\":{\"type\":\"field\",\"field\":\"color\",\"transform\":{\"id\":\"p1150\"}},\"line_alpha\":{\"type\":\"value\",\"value\":0.2},\"fill_color\":{\"type\":\"field\",\"field\":\"color\",\"transform\":{\"id\":\"p1150\"}},\"fill_alpha\":{\"type\":\"value\",\"value\":0.2},\"hatch_color\":{\"type\":\"field\",\"field\":\"color\",\"transform\":{\"id\":\"p1150\"}},\"hatch_alpha\":{\"type\":\"value\",\"value\":0.2}}}}}],\"toolbar\":{\"type\":\"object\",\"name\":\"Toolbar\",\"id\":\"p1122\",\"attributes\":{\"tools\":[{\"type\":\"object\",\"name\":\"WheelZoomTool\",\"id\":\"p1108\",\"attributes\":{\"tags\":[\"hv_created\"],\"zoom_on_axis\":false,\"zoom_together\":\"none\"}},{\"type\":\"object\",\"name\":\"HoverTool\",\"id\":\"p1112\",\"attributes\":{\"tags\":[\"hv_created\"],\"renderers\":[{\"id\":\"p1162\"}],\"tooltips\":[[\"Longitude\",\"$x{custom}\"],[\"Latitude\",\"$y{custom}\"],[\"Entity\",\"@{Entity}\"],[\"DALYs\",\"@{DALYs}\"]],\"formatters\":{\"type\":\"map\",\"entries\":[[\"$x\",{\"type\":\"object\",\"name\":\"CustomJSHover\",\"id\":\"p1167\",\"attributes\":{\"code\":\"\\n        const projections = Bokeh.require(\\\"core/util/projections\\\");\\n        const {snap_x, snap_y} = special_vars\\n        const coords = projections.wgs84_mercator.invert(snap_x, snap_y)\\n        return \\\"\\\" + (coords[0]).toFixed(4)\\n    \"}}],[\"$y\",{\"type\":\"object\",\"name\":\"CustomJSHover\",\"id\":\"p1168\",\"attributes\":{\"code\":\"\\n        const projections = Bokeh.require(\\\"core/util/projections\\\");\\n        const {snap_x, snap_y} = special_vars\\n        const coords = projections.wgs84_mercator.invert(snap_x, snap_y)\\n        return \\\"\\\" + (coords[1]).toFixed(4)\\n    \"}}]]}}},{\"type\":\"object\",\"name\":\"SaveTool\",\"id\":\"p1135\"},{\"type\":\"object\",\"name\":\"PanTool\",\"id\":\"p1136\"},{\"type\":\"object\",\"name\":\"BoxZoomTool\",\"id\":\"p1137\",\"attributes\":{\"overlay\":{\"type\":\"object\",\"name\":\"BoxAnnotation\",\"id\":\"p1138\",\"attributes\":{\"syncable\":false,\"level\":\"overlay\",\"visible\":false,\"left_units\":\"canvas\",\"right_units\":\"canvas\",\"bottom_units\":\"canvas\",\"top_units\":\"canvas\",\"line_color\":\"black\",\"line_alpha\":1.0,\"line_width\":2,\"line_dash\":[4,4],\"fill_color\":\"lightgrey\",\"fill_alpha\":0.5}},\"match_aspect\":true}},{\"type\":\"object\",\"name\":\"ResetTool\",\"id\":\"p1139\"}],\"active_drag\":{\"id\":\"p1136\"}}},\"left\":[{\"type\":\"object\",\"name\":\"LinearAxis\",\"id\":\"p1130\",\"attributes\":{\"ticker\":{\"type\":\"object\",\"name\":\"MercatorTicker\",\"id\":\"p1142\",\"attributes\":{\"mantissas\":[1,2,5],\"dimension\":\"lat\"}},\"formatter\":{\"type\":\"object\",\"name\":\"MercatorTickFormatter\",\"id\":\"p1143\",\"attributes\":{\"dimension\":\"lat\"}},\"axis_label\":\"y\",\"major_label_policy\":{\"type\":\"object\",\"name\":\"AllLabels\",\"id\":\"p1133\"}}}],\"right\":[{\"type\":\"object\",\"name\":\"Legend\",\"id\":\"p1165\",\"attributes\":{\"location\":[0,0],\"click_policy\":\"mute\",\"items\":[{\"type\":\"object\",\"name\":\"LegendItem\",\"id\":\"p1166\",\"attributes\":{\"label\":{\"type\":\"field\",\"field\":\"color\"},\"renderers\":[{\"id\":\"p1162\"}]}}]}}],\"below\":[{\"type\":\"object\",\"name\":\"LinearAxis\",\"id\":\"p1125\",\"attributes\":{\"ticker\":{\"type\":\"object\",\"name\":\"MercatorTicker\",\"id\":\"p1140\",\"attributes\":{\"mantissas\":[1,2,5],\"dimension\":\"lon\"}},\"formatter\":{\"type\":\"object\",\"name\":\"MercatorTickFormatter\",\"id\":\"p1141\",\"attributes\":{\"dimension\":\"lon\"}},\"axis_label\":\"x\",\"major_label_policy\":{\"type\":\"object\",\"name\":\"AllLabels\",\"id\":\"p1128\"}}}],\"center\":[{\"type\":\"object\",\"name\":\"Grid\",\"id\":\"p1129\",\"attributes\":{\"axis\":{\"id\":\"p1125\"},\"grid_line_color\":null}},{\"type\":\"object\",\"name\":\"Grid\",\"id\":\"p1134\",\"attributes\":{\"dimension\":1,\"axis\":{\"id\":\"p1130\"},\"grid_line_color\":null}}],\"frame_width\":700,\"frame_height\":500,\"min_border_top\":10,\"min_border_bottom\":10,\"min_border_left\":10,\"min_border_right\":10,\"output_backend\":\"webgl\",\"match_aspect\":true}},{\"type\":\"object\",\"name\":\"Spacer\",\"id\":\"p1170\",\"attributes\":{\"name\":\"HSpacer01674\",\"stylesheets\":[\"\\n:host(.pn-loading.pn-arc):before, .pn-loading.pn-arc:before {\\n  background-image: url(\\\"data:image/svg+xml;base64,PHN2ZyB4bWxucz0iaHR0cDovL3d3dy53My5vcmcvMjAwMC9zdmciIHN0eWxlPSJtYXJnaW46IGF1dG87IGJhY2tncm91bmQ6IG5vbmU7IGRpc3BsYXk6IGJsb2NrOyBzaGFwZS1yZW5kZXJpbmc6IGF1dG87IiB2aWV3Qm94PSIwIDAgMTAwIDEwMCIgcHJlc2VydmVBc3BlY3RSYXRpbz0ieE1pZFlNaWQiPiAgPGNpcmNsZSBjeD0iNTAiIGN5PSI1MCIgZmlsbD0ibm9uZSIgc3Ryb2tlPSIjYzNjM2MzIiBzdHJva2Utd2lkdGg9IjEwIiByPSIzNSIgc3Ryb2tlLWRhc2hhcnJheT0iMTY0LjkzMzYxNDMxMzQ2NDE1IDU2Ljk3Nzg3MTQzNzgyMTM4Ij4gICAgPGFuaW1hdGVUcmFuc2Zvcm0gYXR0cmlidXRlTmFtZT0idHJhbnNmb3JtIiB0eXBlPSJyb3RhdGUiIHJlcGVhdENvdW50PSJpbmRlZmluaXRlIiBkdXI9IjFzIiB2YWx1ZXM9IjAgNTAgNTA7MzYwIDUwIDUwIiBrZXlUaW1lcz0iMDsxIj48L2FuaW1hdGVUcmFuc2Zvcm0+ICA8L2NpcmNsZT48L3N2Zz4=\\\");\\n  background-size: auto calc(min(50%, 400px));\\n}\",{\"id\":\"p1095\"},{\"id\":\"p1093\"},{\"id\":\"p1094\"}],\"margin\":0,\"sizing_mode\":\"stretch_width\",\"align\":\"start\"}}]}}],\"defs\":[{\"type\":\"model\",\"name\":\"ReactiveHTML1\"},{\"type\":\"model\",\"name\":\"FlexBox1\",\"properties\":[{\"name\":\"align_content\",\"kind\":\"Any\",\"default\":\"flex-start\"},{\"name\":\"align_items\",\"kind\":\"Any\",\"default\":\"flex-start\"},{\"name\":\"flex_direction\",\"kind\":\"Any\",\"default\":\"row\"},{\"name\":\"flex_wrap\",\"kind\":\"Any\",\"default\":\"wrap\"},{\"name\":\"justify_content\",\"kind\":\"Any\",\"default\":\"flex-start\"}]},{\"type\":\"model\",\"name\":\"FloatPanel1\",\"properties\":[{\"name\":\"config\",\"kind\":\"Any\",\"default\":{\"type\":\"map\"}},{\"name\":\"contained\",\"kind\":\"Any\",\"default\":true},{\"name\":\"position\",\"kind\":\"Any\",\"default\":\"right-top\"},{\"name\":\"offsetx\",\"kind\":\"Any\",\"default\":null},{\"name\":\"offsety\",\"kind\":\"Any\",\"default\":null},{\"name\":\"theme\",\"kind\":\"Any\",\"default\":\"primary\"},{\"name\":\"status\",\"kind\":\"Any\",\"default\":\"normalized\"}]},{\"type\":\"model\",\"name\":\"GridStack1\",\"properties\":[{\"name\":\"mode\",\"kind\":\"Any\",\"default\":\"warn\"},{\"name\":\"ncols\",\"kind\":\"Any\",\"default\":null},{\"name\":\"nrows\",\"kind\":\"Any\",\"default\":null},{\"name\":\"allow_resize\",\"kind\":\"Any\",\"default\":true},{\"name\":\"allow_drag\",\"kind\":\"Any\",\"default\":true},{\"name\":\"state\",\"kind\":\"Any\",\"default\":[]}]},{\"type\":\"model\",\"name\":\"drag1\",\"properties\":[{\"name\":\"slider_width\",\"kind\":\"Any\",\"default\":5},{\"name\":\"slider_color\",\"kind\":\"Any\",\"default\":\"black\"},{\"name\":\"value\",\"kind\":\"Any\",\"default\":50}]},{\"type\":\"model\",\"name\":\"click1\",\"properties\":[{\"name\":\"terminal_output\",\"kind\":\"Any\",\"default\":\"\"},{\"name\":\"debug_name\",\"kind\":\"Any\",\"default\":\"\"},{\"name\":\"clears\",\"kind\":\"Any\",\"default\":0}]},{\"type\":\"model\",\"name\":\"FastWrapper1\",\"properties\":[{\"name\":\"object\",\"kind\":\"Any\",\"default\":null},{\"name\":\"style\",\"kind\":\"Any\",\"default\":null}]},{\"type\":\"model\",\"name\":\"NotificationAreaBase1\",\"properties\":[{\"name\":\"js_events\",\"kind\":\"Any\",\"default\":{\"type\":\"map\"}},{\"name\":\"position\",\"kind\":\"Any\",\"default\":\"bottom-right\"},{\"name\":\"_clear\",\"kind\":\"Any\",\"default\":0}]},{\"type\":\"model\",\"name\":\"NotificationArea1\",\"properties\":[{\"name\":\"js_events\",\"kind\":\"Any\",\"default\":{\"type\":\"map\"}},{\"name\":\"notifications\",\"kind\":\"Any\",\"default\":[]},{\"name\":\"position\",\"kind\":\"Any\",\"default\":\"bottom-right\"},{\"name\":\"_clear\",\"kind\":\"Any\",\"default\":0},{\"name\":\"types\",\"kind\":\"Any\",\"default\":[{\"type\":\"map\",\"entries\":[[\"type\",\"warning\"],[\"background\",\"#ffc107\"],[\"icon\",{\"type\":\"map\",\"entries\":[[\"className\",\"fas fa-exclamation-triangle\"],[\"tagName\",\"i\"],[\"color\",\"white\"]]}]]},{\"type\":\"map\",\"entries\":[[\"type\",\"info\"],[\"background\",\"#007bff\"],[\"icon\",{\"type\":\"map\",\"entries\":[[\"className\",\"fas fa-info-circle\"],[\"tagName\",\"i\"],[\"color\",\"white\"]]}]]}]}]},{\"type\":\"model\",\"name\":\"Notification\",\"properties\":[{\"name\":\"background\",\"kind\":\"Any\",\"default\":null},{\"name\":\"duration\",\"kind\":\"Any\",\"default\":3000},{\"name\":\"icon\",\"kind\":\"Any\",\"default\":null},{\"name\":\"message\",\"kind\":\"Any\",\"default\":\"\"},{\"name\":\"notification_type\",\"kind\":\"Any\",\"default\":null},{\"name\":\"_destroyed\",\"kind\":\"Any\",\"default\":false}]},{\"type\":\"model\",\"name\":\"TemplateActions1\",\"properties\":[{\"name\":\"open_modal\",\"kind\":\"Any\",\"default\":0},{\"name\":\"close_modal\",\"kind\":\"Any\",\"default\":0}]},{\"type\":\"model\",\"name\":\"BootstrapTemplateActions1\",\"properties\":[{\"name\":\"open_modal\",\"kind\":\"Any\",\"default\":0},{\"name\":\"close_modal\",\"kind\":\"Any\",\"default\":0}]},{\"type\":\"model\",\"name\":\"MaterialTemplateActions1\",\"properties\":[{\"name\":\"open_modal\",\"kind\":\"Any\",\"default\":0},{\"name\":\"close_modal\",\"kind\":\"Any\",\"default\":0}]}]}};\n",
       "  var render_items = [{\"docid\":\"e7575e49-9429-47e6-9a02-2be08fde3c7c\",\"roots\":{\"p1092\":\"ca8bf309-7693-4dc8-a0ca-0dfd629eb213\"},\"root_ids\":[\"p1092\"]}];\n",
       "  var docs = Object.values(docs_json)\n",
       "  if (!docs) {\n",
       "    return\n",
       "  }\n",
       "  const py_version = docs[0].version.replace('rc', '-rc.').replace('.dev', '-dev.')\n",
       "  const is_dev = py_version.indexOf(\"+\") !== -1 || py_version.indexOf(\"-\") !== -1\n",
       "  function embed_document(root) {\n",
       "    var Bokeh = get_bokeh(root)\n",
       "    Bokeh.embed.embed_items_notebook(docs_json, render_items);\n",
       "    for (const render_item of render_items) {\n",
       "      for (const root_id of render_item.root_ids) {\n",
       "\tconst id_el = document.getElementById(root_id)\n",
       "\tif (id_el.children.length && (id_el.children[0].className === 'bk-root')) {\n",
       "\t  const root_el = id_el.children[0]\n",
       "\t  root_el.id = root_el.id + '-rendered'\n",
       "\t}\n",
       "      }\n",
       "    }\n",
       "  }\n",
       "  function get_bokeh(root) {\n",
       "    if (root.Bokeh === undefined) {\n",
       "      return null\n",
       "    } else if (root.Bokeh.version !== py_version && !is_dev) {\n",
       "      if (root.Bokeh.versions === undefined || !root.Bokeh.versions.has(py_version)) {\n",
       "\treturn null\n",
       "      }\n",
       "      return root.Bokeh.versions.get(py_version);\n",
       "    } else if (root.Bokeh.version === py_version) {\n",
       "      return root.Bokeh\n",
       "    }\n",
       "    return null\n",
       "  }\n",
       "  function is_loaded(root) {\n",
       "    var Bokeh = get_bokeh(root)\n",
       "    return (Bokeh != null && Bokeh.Panel !== undefined)\n",
       "  }\n",
       "  if (is_loaded(root)) {\n",
       "    embed_document(root);\n",
       "  } else {\n",
       "    var attempts = 0;\n",
       "    var timer = setInterval(function(root) {\n",
       "      if (is_loaded(root)) {\n",
       "        clearInterval(timer);\n",
       "        embed_document(root);\n",
       "      } else if (document.readyState == \"complete\") {\n",
       "        attempts++;\n",
       "        if (attempts > 200) {\n",
       "          clearInterval(timer);\n",
       "\t  var Bokeh = get_bokeh(root)\n",
       "\t  if (Bokeh == null || Bokeh.Panel == null) {\n",
       "            console.warn(\"Panel: ERROR: Unable to run Panel code because Bokeh or Panel library is missing\");\n",
       "\t  } else {\n",
       "\t    console.warn(\"Panel: WARNING: Attempting to render but not all required libraries could be resolved.\")\n",
       "\t    embed_document(root)\n",
       "\t  }\n",
       "        }\n",
       "      }\n",
       "    }, 25, root)\n",
       "  }\n",
       "})(window);</script>"
      ],
      "text/plain": [
       ":Overlay\n",
       "   .Tiles.I  :Tiles   [x,y]\n",
       "   .Points.I :Points   [Longitude,Latitude]   (Entity,DALYs)"
      ]
     },
     "execution_count": 9,
     "metadata": {
      "application/vnd.holoviews_exec.v0+json": {
       "id": "p1092"
      }
     },
     "output_type": "execute_result"
    }
   ],
   "source": [
    "# Create a map to visually inspect for regional trends. We will arbitrarily use the latest year in the dataset, 2019.\n",
    "year = 2019\n",
    "dalys_map = geo_df[geo_df['Year'] == year].hvplot.points(\n",
    "    'Longitude',\n",
    "    'Latitude',\n",
    "    geo = True,\n",
    "    tiles = 'OSM',\n",
    "    frame_width = 700,\n",
    "    frame_height = 500,\n",
    "    size = 'DALYs',\n",
    "    color = 'Entity',\n",
    "    alpha = 0.5,\n",
    "    scale = 6,\n",
    "    title = f'DALYs in {year} by Country (indicated by dot size)'\n",
    ")\n",
    "hvplot.save(dalys_map, Path('media', 'dalys_map.html'))\n",
    "dalys_map"
   ]
  },
  {
   "cell_type": "markdown",
   "metadata": {},
   "source": [
    "## Observations\n",
    "Africa has noticeably smaller DALYs than the Americas, Europe, and the Middle East. Let's dig into the statistics to find out more."
   ]
  },
  {
   "cell_type": "code",
   "execution_count": 10,
   "metadata": {},
   "outputs": [
    {
     "data": {
      "image/png": "[encoded data removed]",
      "text/plain": [
       "<Figure size 640x480 with 1 Axes>"
      ]
     },
     "metadata": {},
     "output_type": "display_data"
    },
    {
     "data": {
      "text/html": [
       "<div>\n",
       "<style scoped>\n",
       "    .dataframe tbody tr th:only-of-type {\n",
       "        vertical-align: middle;\n",
       "    }\n",
       "\n",
       "    .dataframe tbody tr th {\n",
       "        vertical-align: top;\n",
       "    }\n",
       "\n",
       "    .dataframe thead th {\n",
       "        text-align: right;\n",
       "    }\n",
       "</style>\n",
       "<table border=\"1\" class=\"dataframe\">\n",
       "  <thead>\n",
       "    <tr style=\"text-align: right;\">\n",
       "      <th></th>\n",
       "      <th>count</th>\n",
       "      <th>mean</th>\n",
       "      <th>std</th>\n",
       "      <th>min</th>\n",
       "      <th>25%</th>\n",
       "      <th>50%</th>\n",
       "      <th>75%</th>\n",
       "      <th>max</th>\n",
       "    </tr>\n",
       "    <tr>\n",
       "      <th>Entity</th>\n",
       "      <th></th>\n",
       "      <th></th>\n",
       "      <th></th>\n",
       "      <th></th>\n",
       "      <th></th>\n",
       "      <th></th>\n",
       "      <th></th>\n",
       "      <th></th>\n",
       "    </tr>\n",
       "  </thead>\n",
       "  <tbody>\n",
       "    <tr>\n",
       "      <th>African Region (WHO)</th>\n",
       "      <td>30.0</td>\n",
       "      <td>1.940398</td>\n",
       "      <td>0.515247</td>\n",
       "      <td>1.378090</td>\n",
       "      <td>1.506294</td>\n",
       "      <td>1.750572</td>\n",
       "      <td>2.301569</td>\n",
       "      <td>3.069142</td>\n",
       "    </tr>\n",
       "    <tr>\n",
       "      <th>South-East Asia Region (WHO)</th>\n",
       "      <td>30.0</td>\n",
       "      <td>3.517538</td>\n",
       "      <td>0.726899</td>\n",
       "      <td>2.323155</td>\n",
       "      <td>2.910889</td>\n",
       "      <td>3.560689</td>\n",
       "      <td>4.039802</td>\n",
       "      <td>4.720232</td>\n",
       "    </tr>\n",
       "    <tr>\n",
       "      <th>Eastern Mediterranean Region (WHO)</th>\n",
       "      <td>30.0</td>\n",
       "      <td>3.956516</td>\n",
       "      <td>0.780661</td>\n",
       "      <td>2.760770</td>\n",
       "      <td>3.274324</td>\n",
       "      <td>3.865009</td>\n",
       "      <td>4.602252</td>\n",
       "      <td>5.398671</td>\n",
       "    </tr>\n",
       "    <tr>\n",
       "      <th>East Asia &amp; Pacific (WB)</th>\n",
       "      <td>30.0</td>\n",
       "      <td>4.591208</td>\n",
       "      <td>0.469133</td>\n",
       "      <td>3.620257</td>\n",
       "      <td>4.265443</td>\n",
       "      <td>4.688283</td>\n",
       "      <td>5.004946</td>\n",
       "      <td>5.120409</td>\n",
       "    </tr>\n",
       "    <tr>\n",
       "      <th>Western Pacific Region (WHO)</th>\n",
       "      <td>30.0</td>\n",
       "      <td>4.897136</td>\n",
       "      <td>0.437364</td>\n",
       "      <td>3.910267</td>\n",
       "      <td>4.643972</td>\n",
       "      <td>5.026614</td>\n",
       "      <td>5.256426</td>\n",
       "      <td>5.329064</td>\n",
       "    </tr>\n",
       "    <tr>\n",
       "      <th>European Region (WHO)</th>\n",
       "      <td>30.0</td>\n",
       "      <td>5.258247</td>\n",
       "      <td>0.358108</td>\n",
       "      <td>4.697142</td>\n",
       "      <td>4.992851</td>\n",
       "      <td>5.100676</td>\n",
       "      <td>5.660788</td>\n",
       "      <td>5.783628</td>\n",
       "    </tr>\n",
       "    <tr>\n",
       "      <th>Latin America &amp; Caribbean (WB)</th>\n",
       "      <td>30.0</td>\n",
       "      <td>5.970586</td>\n",
       "      <td>0.759604</td>\n",
       "      <td>4.431947</td>\n",
       "      <td>5.382909</td>\n",
       "      <td>6.301551</td>\n",
       "      <td>6.588916</td>\n",
       "      <td>6.720816</td>\n",
       "    </tr>\n",
       "    <tr>\n",
       "      <th>Middle East &amp; North Africa (WB)</th>\n",
       "      <td>30.0</td>\n",
       "      <td>6.192522</td>\n",
       "      <td>1.133270</td>\n",
       "      <td>3.993599</td>\n",
       "      <td>5.308950</td>\n",
       "      <td>6.356445</td>\n",
       "      <td>7.155375</td>\n",
       "      <td>7.939938</td>\n",
       "    </tr>\n",
       "    <tr>\n",
       "      <th>North America (WB)</th>\n",
       "      <td>30.0</td>\n",
       "      <td>7.065665</td>\n",
       "      <td>0.416479</td>\n",
       "      <td>6.257477</td>\n",
       "      <td>6.658154</td>\n",
       "      <td>7.211062</td>\n",
       "      <td>7.445974</td>\n",
       "      <td>7.540770</td>\n",
       "    </tr>\n",
       "  </tbody>\n",
       "</table>\n",
       "</div>"
      ],
      "text/plain": [
       "                                    count      mean       std       min  \\\n",
       "Entity                                                                    \n",
       "African Region (WHO)                 30.0  1.940398  0.515247  1.378090   \n",
       "South-East Asia Region (WHO)         30.0  3.517538  0.726899  2.323155   \n",
       "Eastern Mediterranean Region (WHO)   30.0  3.956516  0.780661  2.760770   \n",
       "East Asia & Pacific (WB)             30.0  4.591208  0.469133  3.620257   \n",
       "Western Pacific Region (WHO)         30.0  4.897136  0.437364  3.910267   \n",
       "European Region (WHO)                30.0  5.258247  0.358108  4.697142   \n",
       "Latin America & Caribbean (WB)       30.0  5.970586  0.759604  4.431947   \n",
       "Middle East & North Africa (WB)      30.0  6.192522  1.133270  3.993599   \n",
       "North America (WB)                   30.0  7.065665  0.416479  6.257477   \n",
       "\n",
       "                                         25%       50%       75%       max  \n",
       "Entity                                                                      \n",
       "African Region (WHO)                1.506294  1.750572  2.301569  3.069142  \n",
       "South-East Asia Region (WHO)        2.910889  3.560689  4.039802  4.720232  \n",
       "Eastern Mediterranean Region (WHO)  3.274324  3.865009  4.602252  5.398671  \n",
       "East Asia & Pacific (WB)            4.265443  4.688283  5.004946  5.120409  \n",
       "Western Pacific Region (WHO)        4.643972  5.026614  5.256426  5.329064  \n",
       "European Region (WHO)               4.992851  5.100676  5.660788  5.783628  \n",
       "Latin America & Caribbean (WB)      5.382909  6.301551  6.588916  6.720816  \n",
       "Middle East & North Africa (WB)     5.308950  6.356445  7.155375  7.939938  \n",
       "North America (WB)                  6.658154  7.211062  7.445974  7.540770  "
      ]
     },
     "execution_count": 10,
     "metadata": {},
     "output_type": "execute_result"
    }
   ],
   "source": [
    "# The DALYs dataset also includes regional data, which we will extract, plot, and analyze below.\n",
    "regions = ['African Region (WHO)', 'Eastern Mediterranean Region (WHO)', 'European Region (WHO)', 'South-East Asia Region (WHO)', \n",
    "           'Western Pacific Region (WHO)', 'East Asia & Pacific (WB)', 'Latin America & Caribbean (WB)', 'Middle East & North Africa (WB)', \n",
    "           'North America (WB)']\n",
    "regions_df = pd.DataFrame()\n",
    "\n",
    "for r in regions:\n",
    "    df = dalys_df[dalys_df['Entity'] == r]\n",
    "    regions_df = pd.concat([regions_df, df])\n",
    "    plt.plot(df['Year'], df['DALYs'])\n",
    "\n",
    "plt.title('DALYs as a Result of Mental Disorders by Region')\n",
    "plt.xlabel('Year')\n",
    "plt.ylabel('Disability Adjusted Life Years')\n",
    "plt.legend(regions, bbox_to_anchor=(1, 1))\n",
    "plt.grid()\n",
    "plt.savefig(Path('media', 'dalys_by_region.png'), bbox_inches=\"tight\")\n",
    "plt.show()\n",
    "\n",
    "regions_stats = regions_df.groupby('Entity')['DALYs'].describe().sort_values('mean')\n",
    "regions_stats.to_csv(Path('media', 'dalys_stats.csv'))\n",
    "regions_stats"
   ]
  },
  {
   "cell_type": "markdown",
   "metadata": {},
   "source": [
    "## Observations\n",
    "-  The population of the African region clearly experiences lower DALYs than all other regions, with the smallest mean, minimum value, and maxiumum value.<br>\n",
    "-  The population of North America was the most mentally unhealthy starting at 1990, but begins to recover after 2010. The DALYs dip below Latin America and the Caribbean in 2017 before leveling off.<br>\n",
    "-  The DALYs for Latin America and the Caribbean appear to keep pace with the Middle East and North Africa, but then level out in 2006 while the latter region's DALYs continue to grow. This diversion could be worth further investigation.<br>\n",
    "-  The European region DALYs had the smallest standard deviation over the timespan, indicating the smallest fluctuation in mental health.<br>\n",
    "-  Across all regions, mental health appears to be **trending for the worse**."
   ]
  },
  {
   "cell_type": "markdown",
   "metadata": {},
   "source": [
    "# Question #2 - Are wealthier countries mentally healthier than others?"
   ]
  },
  {
   "cell_type": "code",
   "execution_count": null,
   "metadata": {},
   "outputs": [],
   "source": [
    "# For this analysis, we will look at the top and bottom 5 wealthiest countries.\n",
    "countries_of_interest = ['United States', 'China', 'Japan', 'Germany', 'United Kingdom',    # Wealthiest countries\n",
    "                         'Comoros', 'Djibouti', 'Guinea-Bissau', 'Lesotho', 'Suriname']     # Poorest countries\n",
    "\n",
    "for c in countries_of_interest:\n",
    "    df = dalys_df[dalys_df['Entity'] == c]\n",
    "    plt.plot(df['Year'], df['DALYs'])\n",
    "\n",
    "plt.legend(countries_of_interest)\n",
    "plt.title('DALYs as a Result of Mental Disorders by Country')\n",
    "plt.xlabel('Year')\n",
    "plt.ylabel('Disability Adjusted Life Years')\n",
    "plt.legend(countries_of_interest, bbox_to_anchor=(1, 1))\n",
    "plt.grid()\n",
    "plt.show()"
   ]
  },
  {
   "cell_type": "code",
   "execution_count": null,
   "metadata": {},
   "outputs": [],
   "source": [
    "# For this analysis, we will look at the distribution of mental illnesses within our countries of interest.\n",
    "diseases = ['Schizophrenia', 'Bipolar disorder', 'Eating disorders', 'Anxiety disorders','Drug use disorders','Depressive disorders', 'Alcohol use disorders']\n",
    "\n",
    "for c in countries_of_interest:\n",
    "    df = disease_df[disease_df['Entity'] == c]\n",
    "    for d in diseases:\n",
    "        plt.plot(df['Year'], df[d], alpha=0.8)\n",
    "    plt.title(c)\n",
    "    plt.xlabel('Year')\n",
    "    plt.ylabel('Percent of Population with Disorder')\n",
    "    plt.legend(diseases, bbox_to_anchor=(1, 1))\n",
    "    plt.grid()\n",
    "    plt.show()"
   ]
  },
  {
   "cell_type": "markdown",
   "metadata": {},
   "source": [
    "## Observations\n",
    "Across the board, the two disorders that are affecting the highest population in each listed countries are Anxiety and Depressive disorders. The two disorders that are least affecting are Eating disorders and Schizophrenia. Alcohol disorders fall in the middle in every graph.\n",
    "United Kingdoms is the only country where Bipolar disorders are above 1%. United States is the only country where drug and alcohol use is above 2%."
   ]
  },
  {
   "cell_type": "code",
   "execution_count": null,
   "metadata": {},
   "outputs": [],
   "source": [
    "disease_df.head()"
   ]
  },
  {
   "cell_type": "code",
   "execution_count": null,
   "metadata": {},
   "outputs": [],
   "source": [
    "#calculate population average for schizohprenia for US\n",
    "united_states_df = disease_df.loc[disease_df['Entity'] == 'United States']\n",
    "\n",
    "us_schizophrenia_mean = united_states_df['Schizophrenia'].mean()\n",
    "us_schizophrenia_mean"
   ]
  },
  {
   "cell_type": "code",
   "execution_count": null,
   "metadata": {},
   "outputs": [],
   "source": [
    "#calculate population average for schizohprenia for UK\n",
    "united_kingdom_df = disease_df[disease_df['Entity'] == 'United Kingdom']\n",
    "\n",
    "uk_schizophrenia_mean = united_kingdom_df['Schizophrenia'].mean()\n",
    "uk_schizophrenia_mean\n"
   ]
  },
  {
   "cell_type": "code",
   "execution_count": null,
   "metadata": {},
   "outputs": [],
   "source": [
    "#Calculate Independent (Two Sample) t-test\n",
    "stats.ttest_ind(united_states_df['Schizophrenia'], united_kingdom_df['Schizophrenia'], equal_var=False)"
   ]
  },
  {
   "cell_type": "markdown",
   "metadata": {},
   "source": [
    "Based on this t-test it is safe to say that the average suffering with Schzophrenia in the United States is higher than the United Kingdom."
   ]
  },
  {
   "cell_type": "code",
   "execution_count": null,
   "metadata": {},
   "outputs": [],
   "source": [
    "us_bipolar_disorder_mean = united_states_df['Bipolar disorder'].mean()\n",
    "us_bipolar_disorder_mean"
   ]
  },
  {
   "cell_type": "code",
   "execution_count": null,
   "metadata": {},
   "outputs": [],
   "source": [
    "uk_bipolar_disorder_mean = united_kingdom_df['Bipolar disorder'].mean()\n",
    "uk_bipolar_disorder_mean"
   ]
  },
  {
   "cell_type": "code",
   "execution_count": null,
   "metadata": {},
   "outputs": [],
   "source": [
    "stats.ttest_ind(united_states_df['Bipolar disorder'], united_kingdom_df['Bipolar disorder'], equal_var=False)"
   ]
  },
  {
   "cell_type": "markdown",
   "metadata": {},
   "source": [
    "The population percentage in the UK suffering from bipolar disorder is higher than the population percentage in the US."
   ]
  },
  {
   "cell_type": "code",
   "execution_count": null,
   "metadata": {},
   "outputs": [],
   "source": [
    "us_eating_disorder_mean = united_states_df['Eating disorders'].mean()\n",
    "us_eating_disorder_mean"
   ]
  },
  {
   "cell_type": "code",
   "execution_count": null,
   "metadata": {},
   "outputs": [],
   "source": [
    "uk_eating_disorder_mean = united_kingdom_df['Eating disorders'].mean()\n",
    "uk_eating_disorder_mean"
   ]
  },
  {
   "cell_type": "code",
   "execution_count": null,
   "metadata": {},
   "outputs": [],
   "source": [
    "stats.ttest_ind(united_states_df['Eating disorders'], united_kingdom_df['Eating disorders'], equal_var=False)"
   ]
  },
  {
   "cell_type": "markdown",
   "metadata": {},
   "source": [
    "The population percentage in the US suffering from eating disorders is higher than the UK."
   ]
  },
  {
   "cell_type": "code",
   "execution_count": null,
   "metadata": {},
   "outputs": [],
   "source": [
    "us_anxiety_disorder_mean = united_states_df['Anxiety disorders'].mean()\n",
    "us_anxiety_disorder_mean"
   ]
  },
  {
   "cell_type": "code",
   "execution_count": null,
   "metadata": {},
   "outputs": [],
   "source": [
    "uk_anxiety_disorder_mean = united_kingdom_df['Anxiety disorders'].mean()\n",
    "uk_anxiety_disorder_mean"
   ]
  },
  {
   "cell_type": "code",
   "execution_count": null,
   "metadata": {},
   "outputs": [],
   "source": [
    "stats.ttest_ind(united_states_df['Anxiety disorders'], united_kingdom_df['Anxiety disorders'], equal_var=False)"
   ]
  },
  {
   "cell_type": "markdown",
   "metadata": {},
   "source": [
    "The population percentage in the US suffering from Anxiety disorders is higher than the UK."
   ]
  },
  {
   "cell_type": "code",
   "execution_count": null,
   "metadata": {},
   "outputs": [],
   "source": [
    "us_drug_use_mean = united_states_df['Drug use disorders'].mean()\n",
    "us_drug_use_mean"
   ]
  },
  {
   "cell_type": "code",
   "execution_count": null,
   "metadata": {},
   "outputs": [],
   "source": [
    "uk_drug_use_mean = united_kingdom_df['Drug use disorders'].mean()\n",
    "uk_drug_use_mean"
   ]
  },
  {
   "cell_type": "code",
   "execution_count": null,
   "metadata": {},
   "outputs": [],
   "source": [
    "stats.ttest_ind(united_states_df['Drug use disorders'], united_kingdom_df['Drug use disorders'], equal_var=False)"
   ]
  },
  {
   "cell_type": "markdown",
   "metadata": {},
   "source": [
    "The population percentage in the US suffering from Drug use disorders is higher than the UK."
   ]
  },
  {
   "cell_type": "code",
   "execution_count": null,
   "metadata": {},
   "outputs": [],
   "source": [
    "us_depressive_disorder_mean = united_states_df['Depressive disorders'].mean()\n",
    "us_depressive_disorder_mean"
   ]
  },
  {
   "cell_type": "code",
   "execution_count": null,
   "metadata": {},
   "outputs": [],
   "source": [
    "uk_depressive_disorder_mean = united_kingdom_df['Depressive disorders'].mean()\n",
    "uk_depressive_disorder_mean"
   ]
  },
  {
   "cell_type": "code",
   "execution_count": null,
   "metadata": {},
   "outputs": [],
   "source": [
    "stats.ttest_ind(united_states_df['Depressive disorders'], united_kingdom_df['Depressive disorders'], equal_var=False)"
   ]
  },
  {
   "cell_type": "markdown",
   "metadata": {},
   "source": [
    "The population percentage in the US suffering from Depressive disorders is higher than the UK."
   ]
  },
  {
   "cell_type": "code",
   "execution_count": null,
   "metadata": {},
   "outputs": [],
   "source": [
    "us_alcohol_use_mean = united_states_df['Alcohol use disorders'].mean()\n",
    "us_alcohol_use_mean "
   ]
  },
  {
   "cell_type": "code",
   "execution_count": null,
   "metadata": {},
   "outputs": [],
   "source": [
    "uk_alcohol_use_mean = united_kingdom_df['Alcohol use disorders'].mean()\n",
    "uk_alcohol_use_mean"
   ]
  },
  {
   "cell_type": "code",
   "execution_count": null,
   "metadata": {},
   "outputs": [],
   "source": [
    "stats.ttest_ind(united_states_df['Depressive disorders'], united_kingdom_df['Depressive disorders'], equal_var=False)"
   ]
  },
  {
   "cell_type": "markdown",
   "metadata": {},
   "source": [
    "The population percentage in the UK suffering from Alcohol use is higher than the US."
   ]
  },
  {
   "cell_type": "code",
   "execution_count": null,
   "metadata": {},
   "outputs": [],
   "source": [
    "#perform some t-tests for DALY dataset\n",
    "daly_united_states_df = dalys_df.loc[dalys_df['Entity'] == 'United States']\n",
    "daly_united_kingdom_df = dalys_df.loc[dalys_df['Entity'] == 'United Kingdom']\n",
    "\n",
    "us_daly_mean = daly_united_states_df['DALYs (Disability-Adjusted Life Years) - Mental disorders - Sex: Both - Age: All Ages (Percent)'].mean()\n",
    "us_daly_mean"
   ]
  },
  {
   "cell_type": "code",
   "execution_count": null,
   "metadata": {},
   "outputs": [],
   "source": [
    "uk_daly_mean = daly_united_kingdom_df['DALYs (Disability-Adjusted Life Years) - Mental disorders - Sex: Both - Age: All Ages (Percent)'].mean()\n",
    "uk_daly_mean"
   ]
  },
  {
   "cell_type": "code",
   "execution_count": null,
   "metadata": {},
   "outputs": [],
   "source": [
    "stats.ttest_ind(daly_united_states_df['DALYs (Disability-Adjusted Life Years) - Mental disorders - Sex: Both - Age: All Ages (Percent)'], daly_united_kingdom_df['DALYs (Disability-Adjusted Life Years) - Mental disorders - Sex: Both - Age: All Ages (Percent)'], equal_var=False)"
   ]
  },
  {
   "cell_type": "markdown",
   "metadata": {},
   "source": [
    "The Disability-Adjusted Life Years is higher in the US than the UK."
   ]
  },
  {
   "cell_type": "markdown",
   "metadata": {},
   "source": [
    "## Analysis Disorder Trends Year - over - Year"
   ]
  },
  {
   "cell_type": "code",
   "execution_count": null,
   "metadata": {},
   "outputs": [],
   "source": [
    "trend = pd.DataFrame(columns = ['Country','Diesces','Slope','R-Value'])\n",
    "\n",
    "for c in countries:\n",
    "    df = disease_df[disease_df['Entity'] == c]\n",
    "    for d in diseases:\n",
    "        (slope, intercept, rvalue, pvalue, stderr) = stats.linregress(df['Year'], df[d])\n",
    "        temp = pd.DataFrame([{'Country': c, 'Diesces': d, 'Slope': slope, 'R-Value': rvalue}])\n",
    "        trend= pd.concat([trend, temp])  \n",
    "\n",
    "trend_signifin = trend[abs(trend['R-Value']) >= .7  ]"
   ]
  },
  {
   "cell_type": "code",
   "execution_count": null,
   "metadata": {},
   "outputs": [],
   "source": [
    "# Top correlation\n",
    "trend2 = trend_signifin.sort_values(['R-Value'], ascending = False)\n",
    "trend2.head()"
   ]
  },
  {
   "cell_type": "code",
   "execution_count": null,
   "metadata": {},
   "outputs": [],
   "source": [
    "# Top Increasing disorders Diesces and Country\n",
    "trend3 = trend_signifin.sort_values(['Slope'], ascending = False)\n",
    "trend3.head()"
   ]
  },
  {
   "cell_type": "code",
   "execution_count": null,
   "metadata": {},
   "outputs": [],
   "source": [
    "# Top Decreasing disorders Diesces and Country\n",
    "trend3.tail()"
   ]
  },
  {
   "cell_type": "code",
   "execution_count": null,
   "metadata": {},
   "outputs": [],
   "source": [
    "plt.bar(trend3['Country'] + trend3['Diesces']  ,trend3['Slope'])\n",
    "plt.xticks(rotation = 90 )\n",
    "plt.ylabel('Year over Year Change')\n",
    "plt.title('Trend of % of Population with Disorders by Country')\n",
    "plt.show()"
   ]
  },
  {
   "cell_type": "markdown",
   "metadata": {},
   "source": [
    "## Increasing Disorders are:\n",
    "#    1. United States Drug Disorders\n",
    "#    2. United Kingdom Alchol Discordes\n",
    "#    3. United Kingdom Drug use disorders\n",
    "#    4. Germany\tDepressive disorders\n",
    "#     5. Lesotho\tDepressive disorders\t\n",
    "\n",
    "## Decreasing Disorders:\n",
    "# 1. China\tDepressive disorders\t\n",
    "# 2. Japan\tAnxiety disorders\n",
    "# 3. United States\tAlcohol use disorders\n",
    "# 4. China\tAnxiety disorders\n",
    "# 5. Germany\tAlcohol use disorders\t"
   ]
  },
  {
   "cell_type": "code",
   "execution_count": null,
   "metadata": {},
   "outputs": [],
   "source": [
    "# Are disorders generatry increasing or decreasing\n",
    "trend3[trend3['Slope']>0]['Slope'].count()/ trend3['Slope'].count()"
   ]
  },
  {
   "cell_type": "markdown",
   "metadata": {},
   "source": [
    "# We hope these cat pictures can make you feel better!"
   ]
  },
  {
   "cell_type": "code",
   "execution_count": null,
   "metadata": {},
   "outputs": [],
   "source": [
    "#create function for cat displaying\n",
    "url = f'https://api.thecatapi.com/v1/images/search'\n",
    "def print_cat():\n",
    "    response = requests.request('GET', url)\n",
    "    if response.status_code ==200:\n",
    "        cat = response.json()\n",
    "        cat_url = cat[0]['url']\n",
    "        display(Image(url = cat_url))\n",
    "    else:\n",
    "        print('Could not get picture of cat!')"
   ]
  },
  {
   "cell_type": "code",
   "execution_count": null,
   "metadata": {},
   "outputs": [],
   "source": [
    "for num in range(1,5):\n",
    "    print_cat()"
   ]
  }
 ],
 "metadata": {
  "kernelspec": {
   "display_name": "dev",
   "language": "python",
   "name": "python3"
  },
  "language_info": {
   "codemirror_mode": {
    "name": "ipython",
    "version": 3
   },
   "file_extension": ".py",
   "mimetype": "text/x-python",
   "name": "python",
   "nbconvert_exporter": "python",
   "pygments_lexer": "ipython3",
   "version": "3.10.13"
  }
 },
 "nbformat": 4,
 "nbformat_minor": 2
}
